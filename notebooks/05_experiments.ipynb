{
 "cells": [
  {
   "attachments": {},
   "cell_type": "markdown",
   "metadata": {},
   "source": [
    "# Experiments\n",
    "\n",
    "> Experiments with nbdev, click and other packages.\n",
    "- skip_exec: true"
   ]
  },
  {
   "cell_type": "code",
   "execution_count": null,
   "metadata": {},
   "outputs": [],
   "source": [
    "# | hide\n",
    "# | eval: false\n",
    "%load_ext autoreload\n",
    "%autoreload 2"
   ]
  },
  {
   "cell_type": "code",
   "execution_count": null,
   "metadata": {},
   "outputs": [],
   "source": [
    "# | default_exp experiments"
   ]
  },
  {
   "cell_type": "code",
   "execution_count": null,
   "metadata": {},
   "outputs": [],
   "source": [
    "# | hide\n",
    "from nbdev.showdoc import *"
   ]
  },
  {
   "cell_type": "code",
   "execution_count": null,
   "metadata": {},
   "outputs": [],
   "source": [
    "# | export\n",
    "import click\n",
    "from lobster_tools.config import register_configs, get_config, MainConfig\n",
    "import os\n",
    "from typing import Literal\n",
    "import hydra\n",
    "from hydra import initialize, compose\n",
    "from omegaconf import OmegaConf"
   ]
  },
  {
   "cell_type": "code",
   "execution_count": null,
   "metadata": {},
   "outputs": [],
   "source": [
    "# | export\n",
    "os.environ[\"ETF_PIPELINE\"] = \"local\""
   ]
  },
  {
   "cell_type": "code",
   "execution_count": null,
   "metadata": {},
   "outputs": [],
   "source": [
    "# | hide\n",
    "if os.environ.get(\"ETF_PIPELINE\") == \"local\":\n",
    "    overrides = [\"hyperparameters=simple\", \"universe=simple_local\", \"data_config=local\"]\n",
    "elif os.environ.get(\"ETF_PIPELINE\") == \"server\":\n",
    "    overrides = [\"hyperparameters=simple\", \"universe=simple_local\", \"data_config=local\"]\n",
    "else:\n",
    "    raise ValueError(\"Please set ETF_PIPELINE to either 'local' or 'server'\")\n",
    "\n",
    "register_configs()\n",
    "with initialize(version_base=None, config_path=None):\n",
    "    # cfg_omega = compose(config_name=\"config\", overrides=overrides)\n",
    "    cfg: MainConfig = OmegaConf.to_object(compose(config_name=\"config\"))\n"
   ]
  },
  {
   "cell_type": "code",
   "execution_count": null,
   "metadata": {},
   "outputs": [],
   "source": [
    "# | export\n",
    "register_configs()\n",
    "cfg = get_config()\n",
    "\n",
    "directory_path = cfg.data_config.csv_files_path\n",
    "etfs = cfg.universe.etfs\n",
    "equities = cfg.universe.equities\n",
    "date_range = cfg.data_config.date_range\n",
    "markouts = cfg.hyperparameters.markouts\n",
    "finest_resample = cfg.hyperparameters.finest_resample\n",
    "max_markout = cfg.hyperparameters.max_markout\n",
    "\n",
    "load: Literal[\"both\", \"messages\", \"book\"] = \"both\"\n",
    "clip_trading_hours = True\n",
    "add_ticker_column = True"
   ]
  },
  {
   "cell_type": "code",
   "execution_count": null,
   "metadata": {},
   "outputs": [],
   "source": [
    "# | export\n",
    "def example_cli():\n",
    "    register_configs()\n",
    "    with initialize(version_base=None, config_path=None):\n",
    "        cfg_omega = compose(config_name=\"config\", overrides=overrides)\n",
    "        cfg: MainConfig = OmegaConf.to_object(compose(config_name=\"config\"))\n",
    "    print(cfg)"
   ]
  },
  {
   "cell_type": "code",
   "execution_count": null,
   "metadata": {},
   "outputs": [],
   "source": [
    "# | export\n",
    "# register_configs()\n",
    "@hydra.main(version_base=None, config_name=\"config\")\n",
    "def hydra_cli(cfg: MainConfig) -> None:\n",
    "    \"\"\"I would have more specific name here. For example this file might be called create_arctic_dc.py and the main()\n",
    "    function would be called create_arctic_db() or sth\"\"\"\n",
    "    print(OmegaConf.to_yaml(cfg))"
   ]
  },
  {
   "cell_type": "code",
   "execution_count": null,
   "metadata": {},
   "outputs": [],
   "source": [
    "# | hide\n",
    "import nbdev\n",
    "\n",
    "nbdev.nbdev_export()"
   ]
  }
 ],
 "metadata": {
  "kernelspec": {
   "display_name": "python3",
   "language": "python",
   "name": "python3"
  }
 },
 "nbformat": 4,
 "nbformat_minor": 4
}
