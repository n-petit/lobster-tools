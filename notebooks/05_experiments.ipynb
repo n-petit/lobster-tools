{
 "cells": [
  {
   "attachments": {},
   "cell_type": "markdown",
   "metadata": {},
   "source": [
    "# Experiments\n",
    "\n",
    "> Experiments with nbdev, click and other packages."
   ]
  },
  {
   "cell_type": "code",
   "execution_count": null,
   "metadata": {},
   "outputs": [],
   "source": [
    "%load_ext autoreload\n",
    "%autoreload 2"
   ]
  },
  {
   "cell_type": "code",
   "execution_count": null,
   "metadata": {},
   "outputs": [],
   "source": [
    "# | default_exp experiments"
   ]
  },
  {
   "cell_type": "code",
   "execution_count": null,
   "metadata": {},
   "outputs": [],
   "source": [
    "# | hide\n",
    "from nbdev.showdoc import *"
   ]
  },
  {
   "cell_type": "code",
   "execution_count": null,
   "metadata": {},
   "outputs": [],
   "source": [
    "# | export\n",
    "import click\n",
    "from lobster_tools.config import register_configs, MainConfig\n",
    "import os\n",
    "from typing import Literal\n",
    "import hydra\n",
    "from hydra import initialize, initialize_config_module, initialize_config_dir, compose\n",
    "from omegaconf import OmegaConf"
   ]
  },
  {
   "cell_type": "code",
   "execution_count": null,
   "metadata": {},
   "outputs": [],
   "source": [
    "def inc(x):\n",
    "    return x + 1\n",
    "\n",
    "# assert(inc(3) == 5)"
   ]
  },
  {
   "cell_type": "code",
   "execution_count": null,
   "metadata": {},
   "outputs": [],
   "source": [
    "# assert(inc(1) == 1)"
   ]
  },
  {
   "cell_type": "code",
   "execution_count": null,
   "metadata": {},
   "outputs": [],
   "source": [
    "# | export\n",
    "os.environ[\"ETF_PIPELINE\"] = \"local\""
   ]
  },
  {
   "cell_type": "code",
   "execution_count": null,
   "metadata": {},
   "outputs": [],
   "source": [
    "# | export\n",
    "if os.environ.get(\"ETF_PIPELINE\") == \"local\":\n",
    "    overrides = [\"hyperparameters=simple\", \"universe=simple\", \"data_config=local\"]\n",
    "elif os.environ.get(\"ETF_PIPELINE\") == \"server\":\n",
    "    overrides = [\"hyperparameters=simple\", \"universe=simple\", \"data_config=local\"]\n",
    "else:\n",
    "    raise ValueError(\"Please set ETF_PIPELINE to either 'local' or 'server'\")\n",
    "\n",
    "register_configs()\n",
    "with initialize(version_base=None, config_path=None):\n",
    "    cfg_omega = compose(config_name=\"config\", overrides=overrides)\n",
    "    cfg: MainConfig = OmegaConf.to_object(compose(config_name=\"config\"))\n",
    "\n",
    "directory_path = cfg.data_config.csv_files_path\n",
    "etfs = cfg.universe.etfs\n",
    "equities = cfg.universe.equities\n",
    "date_range = cfg.data_config.date_range\n",
    "markouts = cfg.hyperparameters.markouts\n",
    "finest_resample = cfg.hyperparameters.finest_resample\n",
    "max_markout = cfg.hyperparameters.max_markout\n",
    "\n",
    "load: Literal[\"both\", \"messages\", \"book\"] = \"both\"\n",
    "clip_trading_hours = True\n",
    "add_ticker_column = True"
   ]
  },
  {
   "cell_type": "code",
   "execution_count": null,
   "metadata": {},
   "outputs": [],
   "source": [
    "# | export\n",
    "CONTEXT_SETTINGS = dict(\n",
    "    help_option_names=[\"-h\", \"--help\"],\n",
    "    token_normalize_func=lambda x: x.lower()\n",
    "    if isinstance(x, str)\n",
    "    else x,  # can run with --COUNT or --count, --duck or --dUcK etc..\n",
    ")\n",
    "\n",
    "@click.command(context_settings=CONTEXT_SETTINGS)\n",
    "@click.option(\"-c\", \"--count\", required=True, help=\"example arg.\")\n",
    "def example_feature(count):\n",
    "    \"nbdev cli test\"\n",
    "    print(f\"{count} example feature\")"
   ]
  },
  {
   "cell_type": "code",
   "execution_count": null,
   "metadata": {},
   "outputs": [],
   "source": [
    "# | export\n",
    "def example_cli():\n",
    "    register_configs()\n",
    "    with initialize(version_base=None, config_path=None):\n",
    "        cfg_omega = compose(config_name=\"config\", overrides=overrides)\n",
    "        cfg: MainConfig = OmegaConf.to_object(compose(config_name=\"config\"))\n",
    "    print(cfg)"
   ]
  },
  {
   "cell_type": "code",
   "execution_count": null,
   "metadata": {},
   "outputs": [],
   "source": [
    "# | export\n",
    "# simple test of click and setuptools console_scripts entry points.. works nicely for simple CLIs\n",
    "CONTEXT_SETTINGS = dict(\n",
    "    help_option_names=[\"-h\", \"--help\"],\n",
    "    token_normalize_func=lambda x: x.lower()\n",
    "    if isinstance(x, str)\n",
    "    else x,  # can run with --COUNT or --count, --duck or --dUcK etc..\n",
    ")\n",
    "\n",
    "\n",
    "@click.command(context_settings=CONTEXT_SETTINGS)\n",
    "@click.option(\"-c\", \"--count\", required=True, help=\"example arg.\")\n",
    "@click.option(\"-i\", \"--int\", \"int_\", default=2, show_default=True, help=\"example arg.\")\n",
    "@click.option(\"-d\", \"--duck\", is_flag=True, show_default=True, help=\"some flag.\")\n",
    "@click.option(\n",
    "    \"-e\", \"--elephant\", is_flag=True, show_default=True, default=True, help=\"some flag.\"\n",
    ")\n",
    "def testa(count, duck, elephant, int_):\n",
    "    \"nbdev cli test with click\"\n",
    "    print(\n",
    "        f\"printing the arg count: {count}. duck: {duck}. elephant: {elephant}. reserved keyword int: {int_}\"\n",
    "    )"
   ]
  },
  {
   "cell_type": "code",
   "execution_count": null,
   "metadata": {},
   "outputs": [],
   "source": [
    "# | export\n",
    "def print_hello():\n",
    "    \"nbdev cli test\"\n",
    "    print(\"hello\")"
   ]
  },
  {
   "cell_type": "code",
   "execution_count": null,
   "metadata": {},
   "outputs": [],
   "source": [
    "# | export\n",
    "CONTEXT_SETTINGS = dict(\n",
    "    help_option_names=[\"-h\", \"--help\"],\n",
    "    token_normalize_func=lambda x: x.lower()\n",
    "    if isinstance(x, str)\n",
    "    else x,  # can run with --COUNT or --count, --duck or --dUcK etc..\n",
    ")\n",
    "\n",
    "\n",
    "@click.command(context_settings=CONTEXT_SETTINGS)\n",
    "@click.option(\"-c\", \"--count\", required=True, help=\"example arg.\")\n",
    "def testaa(count):\n",
    "    \"nbdev cli test\"\n",
    "    print(f\"{count} testaa\")"
   ]
  },
  {
   "cell_type": "code",
   "execution_count": null,
   "metadata": {},
   "outputs": [],
   "source": [
    "# | export\n",
    "# register_configs()\n",
    "@hydra.main(version_base=None, config_name=\"config\")\n",
    "def hydra_cli(cfg: MainConfig) -> None:\n",
    "    \"\"\"I would have more specific name here. For example this file might be called create_arctic_dc.py and the main()\n",
    "    function would be called create_arctic_db() or sth\"\"\"\n",
    "    print(OmegaConf.to_yaml(cfg))"
   ]
  },
  {
   "cell_type": "code",
   "execution_count": null,
   "metadata": {},
   "outputs": [],
   "source": [
    "# | export\n",
    "# register_configs()\n",
    "# @hydra.main(version_base=None, config_name=\"config\")\n",
    "# def example_main(cfg: MainConfig) -> None:\n",
    "#     \"\"\"I would have more specific name here. For example this file might be called create_arctic_dc.py and the main()\n",
    "#     function would be called create_arctic_db() or sth\"\"\"\n",
    "#     print(OmegaConf.to_yaml(cfg))"
   ]
  },
  {
   "cell_type": "code",
   "execution_count": null,
   "metadata": {},
   "outputs": [],
   "source": [
    "# | hide\n",
    "import nbdev\n",
    "\n",
    "nbdev.nbdev_export()"
   ]
  }
 ],
 "metadata": {
  "kernelspec": {
   "display_name": "python3",
   "language": "python",
   "name": "python3"
  }
 },
 "nbformat": 4,
 "nbformat_minor": 4
}
