{
 "cells": [
  {
   "attachments": {},
   "cell_type": "markdown",
   "metadata": {},
   "source": [
    "# Experiments\n",
    "\n",
    "> Experiments with nbdev, click and other packages."
   ]
  },
  {
   "cell_type": "code",
   "execution_count": null,
   "metadata": {},
   "outputs": [],
   "source": [
    "%load_ext autoreload\n",
    "%autoreload 2"
   ]
  },
  {
   "cell_type": "code",
   "execution_count": null,
   "metadata": {},
   "outputs": [],
   "source": [
    "# | default_exp experiments"
   ]
  },
  {
   "cell_type": "code",
   "execution_count": null,
   "metadata": {},
   "outputs": [],
   "source": [
    "# | hide\n",
    "from nbdev.showdoc import *"
   ]
  },
  {
   "cell_type": "code",
   "execution_count": null,
   "metadata": {},
   "outputs": [],
   "source": [
    "# | export\n",
    "import click\n"
   ]
  },
  {
   "cell_type": "code",
   "execution_count": null,
   "metadata": {},
   "outputs": [],
   "source": [
    "# | export\n",
    "# simple test of click and setuptools console_scripts entry points.. works nicely for simple CLIs\n",
    "CONTEXT_SETTINGS = dict(help_option_names=['-h', '--help'],\n",
    "                        token_normalize_func=lambda x: x.lower() if isinstance(x, str) else x # can run with --COUNT or --count, --duck or --dUcK etc..\n",
    "                        )\n",
    "\n",
    "@click.command(context_settings=CONTEXT_SETTINGS)\n",
    "@click.option('-c', '--count' , required=True, help='example arg.')\n",
    "@click.option('-i', '--int' , 'int_', default=2, show_default=True, help='example arg.')\n",
    "@click.option('-d', '--duck', is_flag=True, show_default=True, help='some flag.')\n",
    "@click.option('-e', '--elephant', is_flag=True, show_default=True, default=True, help='some flag.')\n",
    "def testa(count, duck, elephant, int_):\n",
    "    \"nbdev cli test with click\"\n",
    "    print(f\"printing arg count: {count}. duck: {duck}. elephant: {elephant}. reserved keyword int: {int_}\")"
   ]
  },
  {
   "cell_type": "code",
   "execution_count": null,
   "metadata": {},
   "outputs": [],
   "source": [
    "# | export\n",
    "def cli_example():\n",
    "    \"nbdev cli test\"\n",
    "    print(\"example_of_cli\")"
   ]
  },
  {
   "cell_type": "code",
   "execution_count": null,
   "metadata": {},
   "outputs": [],
   "source": [
    "# | hide\n",
    "import nbdev\n",
    "\n",
    "nbdev.nbdev_export()"
   ]
  }
 ],
 "metadata": {
  "kernelspec": {
   "display_name": "python3",
   "language": "python",
   "name": "python3"
  }
 },
 "nbformat": 4,
 "nbformat_minor": 4
}
