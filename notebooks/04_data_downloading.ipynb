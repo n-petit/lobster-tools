{
 "cells": [
  {
   "attachments": {},
   "cell_type": "markdown",
   "metadata": {},
   "source": [
    "# Data downloading\n",
    "\n",
    "> Simple script to download LOBSTER sample data."
   ]
  },
  {
   "cell_type": "code",
   "execution_count": null,
   "metadata": {},
   "outputs": [],
   "source": [
    "# | hide\n",
    "# | eval: false\n",
    "%load_ext autoreload\n",
    "%autoreload 2"
   ]
  },
  {
   "cell_type": "code",
   "execution_count": null,
   "metadata": {},
   "outputs": [],
   "source": [
    "# | default_exp data_downloading"
   ]
  },
  {
   "cell_type": "code",
   "execution_count": null,
   "metadata": {},
   "outputs": [],
   "source": [
    "# | hide\n",
    "from nbdev.showdoc import *"
   ]
  },
  {
   "cell_type": "code",
   "execution_count": null,
   "metadata": {},
   "outputs": [],
   "source": [
    "# | export\n",
    "import io\n",
    "import os\n",
    "import zipfile\n",
    "from typing import Literal\n",
    "\n",
    "import click\n",
    "import requests\n",
    "\n",
    "from lobster_tools.config import get_config"
   ]
  },
  {
   "cell_type": "code",
   "execution_count": null,
   "metadata": {},
   "outputs": [],
   "source": [
    "# | export\n",
    "cfg = get_config()"
   ]
  },
  {
   "cell_type": "code",
   "execution_count": null,
   "metadata": {},
   "outputs": [],
   "source": [
    "# | exports\n",
    "# | code-fold: true\n",
    "CONTEXT_SETTINGS = dict(\n",
    "    help_option_names=[\"-h\", \"--help\"],\n",
    "    token_normalize_func=lambda x: x.lower() if isinstance(x, str) else x,\n",
    "    show_default=True,\n",
    ")\n",
    "\n",
    "\n",
    "@click.command(context_settings=CONTEXT_SETTINGS)\n",
    "@click.option(\"-t\", \"--ticker\", default=cfg.sample_data.ticker, help=\"ticker\")\n",
    "@click.option(\"-l\", \"--levels\", default=cfg.sample_data.levels, help=\"number of levels\")\n",
    "def get_sample_data(\n",
    "    ticker: Literal[\"AMZN\", \"AAPL\", \"GOOG\", \"INTC\", \"MSFT\"],\n",
    "    levels: Literal[1, 5, 10],\n",
    "):\n",
    "    \"\"\"Download and extract sample data from LOBSTER website.\"\"\"\n",
    "    SAMPLE_DATA_DATE = \"2012-06-21\"\n",
    "    url = f\"https://lobsterdata.com/info/sample/LOBSTER_SampleFile_{ticker}_{SAMPLE_DATA_DATE}_{levels}.zip\"\n",
    "    print(f\"Downloading data from {url}\")\n",
    "\n",
    "    default_directory_name = (\n",
    "        f\"data/{ticker}_{SAMPLE_DATA_DATE}_{SAMPLE_DATA_DATE}_{levels}\"\n",
    "    )\n",
    "    output_dir = os.path.join(os.getcwd(), default_directory_name)\n",
    "\n",
    "    os.makedirs(output_dir, exist_ok=True)\n",
    "\n",
    "    response = requests.get(url)\n",
    "    if response.status_code != 200:\n",
    "        print(f\"Failed to download data. HTTP Status Code: {response.status_code}\")\n",
    "        return\n",
    "\n",
    "    with zipfile.ZipFile(io.BytesIO(response.content)) as zip_ref:\n",
    "        zip_ref.extractall(output_dir)"
   ]
  },
  {
   "cell_type": "markdown",
   "metadata": {},
   "source": [
    "To download and extract the [Lobster sample data](https://lobsterdata.com/info/DataSamples.php), run the following command in the directory of your choice.\n",
    "```sh\n",
    "$ get_sample_data --ticker=GOOG --levels=10 \n",
    "```"
   ]
  },
  {
   "cell_type": "code",
   "execution_count": null,
   "metadata": {},
   "outputs": [],
   "source": [
    "# | hide\n",
    "import nbdev\n",
    "\n",
    "nbdev.nbdev_export()"
   ]
  }
 ],
 "metadata": {
  "kernelspec": {
   "display_name": "python3",
   "language": "python",
   "name": "python3"
  }
 },
 "nbformat": 4,
 "nbformat_minor": 4
}
