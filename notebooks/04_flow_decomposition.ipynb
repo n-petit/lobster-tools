{
 "cells": [
  {
   "attachments": {},
   "cell_type": "markdown",
   "metadata": {},
   "source": [
    "# ETF flow decomposition 🌊\n",
    "\n",
    "> Nearest neighbor functions, etc."
   ]
  },
  {
   "cell_type": "code",
   "execution_count": null,
   "metadata": {},
   "outputs": [],
   "source": [
    "%load_ext autoreload\n",
    "%autoreload 2"
   ]
  },
  {
   "cell_type": "code",
   "execution_count": null,
   "metadata": {},
   "outputs": [],
   "source": [
    "# | default_exp flow_decomposition"
   ]
  },
  {
   "cell_type": "code",
   "execution_count": null,
   "metadata": {},
   "outputs": [],
   "source": [
    "# | hide\n",
    "from nbdev.showdoc import *"
   ]
  },
  {
   "cell_type": "code",
   "execution_count": null,
   "metadata": {},
   "outputs": [],
   "source": [
    "# | export\n",
    "\n",
    "import pandas as pd\n",
    "import numpy as np\n",
    "from sklearn.neighbors import KDTree\n",
    "from numpy.typing import NDArray"
   ]
  },
  {
   "cell_type": "code",
   "execution_count": null,
   "metadata": {},
   "outputs": [],
   "source": [
    "# | export\n",
    "\n",
    "\n",
    "def get_times(df: pd.DataFrame) -> NDArray[np.datetime64]:\n",
    "    if df.index.values.dtype == \"datetime64[ns]\":\n",
    "        return df.index.values.reshape(-1, 1)\n",
    "    else:\n",
    "        return df[\"datetime\"].values.reshape(-1, 1)\n",
    "\n",
    "\n",
    "def str_to_time(time: str, convert_to: str) -> int:\n",
    "    return pd.Timedelta(time) / pd.Timedelta(1, unit=convert_to)\n",
    "\n",
    "\n",
    "# better way to compose with partial (i.e without lambda)? \n",
    "str_to_nanoseconds = lambda x: int(str_to_time(x, convert_to=\"ns\"))"
   ]
  },
  {
   "cell_type": "code",
   "execution_count": null,
   "metadata": {},
   "outputs": [],
   "source": [
    "# | export\n",
    "\n",
    "\n",
    "def add_neighbors(\n",
    "    etf_executions: pd.DataFrame,\n",
    "    equity_executions: pd.DataFrame,\n",
    "    tolerance: str | list[str],\n",
    "):\n",
    "    \"\"\"Annotate the etf execution dataframe with the indices of the neighbouring equity executions.\n",
    "    Note: Building the KDTree on the equity dataframe.\n",
    "    \"\"\"\n",
    "    etf_executions_times = get_times(etf_executions)\n",
    "    equity_executions_times = get_times(equity_executions)\n",
    "    equity_tree = KDTree(equity_executions_times, metric=\"l1\")\n",
    "\n",
    "    def _add_neighbors_col(etf_executions, tolerance_str):\n",
    "        tolerance_in_nanoseconds = str_to_nanoseconds(tolerance_str)\n",
    "        etf_executions[f\"_{tolerance_str}_neighbors\"] = equity_tree.query_radius(etf_executions_times, r=tolerance_in_nanoseconds)\n",
    "\n",
    "        etf_executions[f\"_{tolerance_str}_neighbors\"] = etf_executions[f\"_{tolerance_str}_neighbors\"].apply(\n",
    "            lambda x: None if x.size == 0 else x\n",
    "        )\n",
    "\n",
    "        # etf_executions[f\"_{tolerance_str}_neighbors\"] = pd.Series(etf_executions[f\"_{tolerance_str}_neighbors\"], dtype=\"Sparse[object]\")\n",
    "        return None\n",
    "\n",
    "    if isinstance(tolerance, str):\n",
    "        _add_neighbors_col(etf_executions, tolerance)\n",
    "\n",
    "    elif isinstance(tolerance, list):\n",
    "        for tolerance in tolerance:\n",
    "            _add_neighbors_col(etf_executions, tolerance)\n",
    "    else:\n",
    "        raise ValueError(\"tolerance_str must be a string or a list of strings\")\n",
    "\n",
    "\n",
    "def drop_all_neighbor_cols(df: pd.DataFrame):\n",
    "    \"Drop neighbor columns inplace.\"\n",
    "    neighbor_column_names = df.filter(regex=\"neighbors\").columns\n",
    "    df.drop(columns=neighbor_column_names, inplace=True)\n",
    "    return None"
   ]
  },
  {
   "cell_type": "code",
   "execution_count": null,
   "metadata": {},
   "outputs": [],
   "source": [
    "# | hide\n",
    "import nbdev\n",
    "\n",
    "nbdev.nbdev_export()"
   ]
  }
 ],
 "metadata": {
  "kernelspec": {
   "display_name": "python3",
   "language": "python",
   "name": "python3"
  }
 },
 "nbformat": 4,
 "nbformat_minor": 4
}
