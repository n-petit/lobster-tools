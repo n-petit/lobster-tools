{
 "cells": [
  {
   "attachments": {},
   "cell_type": "markdown",
   "metadata": {},
   "source": [
    "# Arctic\n",
    "\n",
    "> Arctic helper scripts and functions."
   ]
  },
  {
   "cell_type": "code",
   "execution_count": null,
   "metadata": {},
   "outputs": [],
   "source": [
    "%load_ext autoreload\n",
    "%autoreload 2"
   ]
  },
  {
   "cell_type": "code",
   "execution_count": null,
   "metadata": {},
   "outputs": [],
   "source": [
    "# | default_exp arctic"
   ]
  },
  {
   "cell_type": "code",
   "execution_count": null,
   "metadata": {},
   "outputs": [],
   "source": [
    "# | hide\n",
    "from nbdev.showdoc import *"
   ]
  },
  {
   "cell_type": "code",
   "execution_count": null,
   "metadata": {},
   "outputs": [],
   "source": [
    "# | export\n",
    "import os\n",
    "\n",
    "import click\n",
    "from arcticdb import Arctic, LibraryOptions\n",
    "import hydra\n",
    "from hydra import initialize, initialize_config_module, initialize_config_dir, compose\n",
    "from omegaconf import OmegaConf\n",
    "from pathlib import Path\n",
    "from lobster_tools.config import MainConfig, register_configs\n",
    "from lobster_tools.preprocessing import Data, Lobster\n",
    "import sys\n",
    "import pandas as pd"
   ]
  },
  {
   "cell_type": "code",
   "execution_count": null,
   "metadata": {},
   "outputs": [
    {
     "name": "stdout",
     "output_type": "stream",
     "text": [
      "MainConfig(hydra=CustomHydraConf(defaults=[{'output': 'default'}, {'launcher': 'basic'}, {'sweeper': 'basic'}, {'help': 'default'}, {'hydra_help': 'default'}, {'hydra_logging': 'default'}, {'job_logging': 'default'}, {'callbacks': None}, {'env': 'default'}], mode=None, searchpath=[], run=RunDir(dir='../custom_directory/${now:%Y-%m-%d}/${now:%H-%M-%S}'), sweep=SweepDir(dir='???', subdir='???'), hydra_logging='???', job_logging='???', sweeper='???', launcher='???', callbacks={}, help=HelpConf(app_name='???', header='???', footer='???', template='???'), hydra_help=HydraHelpConf(hydra_help='???', template='???'), output_subdir='.hydra', overrides=OverridesConf(hydra=[], task=[]), job=JobConf(name='???', chdir=None, override_dirname='???', id='???', num='???', config_name='???', env_set={}, env_copy=[], config=JobConf.JobConfig(override_dirname=JobConf.JobConfig.OverrideDirname(kv_sep='=', item_sep=',', exclude_keys=[]))), runtime=RuntimeConf(version='???', version_base='???', cwd='???', config_sources='???', output_dir='???', choices={}), verbose=False), db=ArcticDB(db_path='/nfs/home/nicolasp/home/data/arctic', library_name='lobster', columns_per_segment=63), data=DataPaths(zip_files_path='/nfs/lobster_data/lobster_raw', csv_files_path='/nfs/home/nicolasp/home/data/arctic'), universe=Universe(etfs=['XLE']), sample_data=SampleData(ticker='AMZN', levels='5'))\n",
      "['XOM', 'CVX', 'EOG', 'COP', 'SLB', 'MPC', 'PXD', 'PSX', 'VLO', 'OXY', 'HES', 'WMB', 'KMI', 'DVN', 'BKR', 'HAL', 'OKE', 'FANG', 'CTRA', 'TRGP', 'MRO', 'EQT', 'APA']\n"
     ]
    }
   ],
   "source": [
    "# | export\n",
    "\n",
    "# access config by normal python import\n",
    "# cfg = MainConfig()\n",
    "# register configs and then build object\n",
    "register_configs()\n",
    "\n",
    "with initialize(version_base=None, config_path=None):\n",
    "    cfg_omega = compose(config_name=\"config\")\n",
    "    cfg: MainConfig = OmegaConf.to_object(compose(config_name=\"config\"))\n",
    "    # print(cfg)"
   ]
  },
  {
   "cell_type": "code",
   "execution_count": null,
   "metadata": {},
   "outputs": [],
   "source": [
    "# | export\n",
    "# register_configs()\n",
    "# @hydra.main(version_base=None, config_name=\"config\")\n",
    "# def test_arctic_db(cfg: MainConfig) -> None:\n",
    "#     \"\"\"Connect to arctic db and list symbols in the `lobster` library.\"\"\"\n",
    "#     # ARCTIC_DATABASE_PATH = '/nfs/home/nicolasp/home/data/arctic'\n",
    "#     conn = f'lmdb://{cfg.db.db_path}'\n",
    "#     arctic = Arctic(conn)\n",
    "#     print(arctic.list_libraries())\n",
    "\n",
    "#     library = arctic['lobster']\n",
    "#     print(library.list_symbols())"
   ]
  },
  {
   "cell_type": "code",
   "execution_count": null,
   "metadata": {},
   "outputs": [],
   "source": [
    "# | exports\n",
    "# | code-fold: true\n",
    "\n",
    "register_configs()\n",
    "CONTEXT_SETTINGS = dict(\n",
    "    help_option_names=[\"-h\", \"--help\"],\n",
    "    token_normalize_func=lambda x: x.lower() if isinstance(x, str) else x,\n",
    "    show_default=True,\n",
    ")\n",
    "\n",
    "@click.command(context_settings=CONTEXT_SETTINGS)\n",
    "@click.option(\"-p\", \"--path\", default=cfg.db.db_path, help=\"database path\")\n",
    "# @click.option(\"-l\", \"--levels\", default=cfg.sample_data.levels, help=\"number of levels\")\n",
    "def test_arctic_db(path\n",
    "):\n",
    "    \"\"\"Connect to arctic db and list symbols in the `lobster` library.\"\"\"\n",
    "    conn = f'lmdb://{path}'\n",
    "    arctic = Arctic(conn)\n",
    "    print(arctic.list_libraries())\n",
    "\n",
    "    library = arctic['lobster']\n",
    "    print(library.list_symbols())\n"
   ]
  },
  {
   "cell_type": "code",
   "execution_count": null,
   "metadata": {},
   "outputs": [],
   "source": [
    "# | exports\n",
    "# | code-fold: true\n",
    "\n",
    "@click.command(context_settings=CONTEXT_SETTINGS)\n",
    "@click.option(\"-d\", \"--db_path\", default=cfg.db.db_path, help=\"database path\")\n",
    "@click.option(\"-t\", \"--ticker\", required=True, help=\"ticker to print\")\n",
    "@click.option(\"-s\", \"--start_date\", default=\"2020-01-01\", help=\"start date\")\n",
    "@click.option(\"-e\", \"--end_date\", default=\"2020-02-01\", help=\"end date\")\n",
    "# @click.option(\"-l\", \"--levels\", default=cfg.sample_data.levels, help=\"number of levels\")\n",
    "def test_arctic_read_symbol(db_path, ticker, start_date, end_date,\n",
    "):\n",
    "    \"\"\"Connect to arctic db and list symbols in the `lobster` library.\"\"\"\n",
    "    date_range = (start_date, end_date)\n",
    "    conn = f'lmdb://{db_path}'\n",
    "    arctic = Arctic(conn)\n",
    "\n",
    "    library = arctic['lobster']\n",
    "    print('available tickers:')\n",
    "    print(library.list_symbols())\n",
    "    print(\"start date and end date not used yet\")\n",
    "    df = library.read(ticker).data\n",
    "    \n",
    "    print(f\"Printing df.head() for ticker {ticker}\")\n",
    "    print(df.head())\n",
    "\n",
    "    print(\"columns of df are:\")\n",
    "    print(df.columns)"
   ]
  },
  {
   "cell_type": "code",
   "execution_count": null,
   "metadata": {},
   "outputs": [],
   "source": [
    "# | exports\n",
    "# | code-fold: true\n",
    "\n",
    "@click.command(context_settings=CONTEXT_SETTINGS)\n",
    "@click.option(\"-c\", \"--csv_path\", default=cfg.data_config.csv_files_path, help=\"csv files path\")\n",
    "@click.option(\"-d\", \"--db_path\", default=cfg.db.db_path, help=\"database path\")\n",
    "@click.option(\"-t\", \"--ticker\", required=True, help=\"ticker to write to db\")\n",
    "@click.option(\"-s\", \"--start_date\", default=\"2020-01-01\", help=\"start date\")\n",
    "@click.option(\"-e\", \"--end_date\", default=\"2020-02-01\", help=\"end date\")\n",
    "# @click.option(\"-l\", \"--levels\", default=cfg.sample_data.levels, help=\"number of levels\")\n",
    "def test_arctic_write_symbol(db_path, csv_path, ticker, start_date, end_date,\n",
    "):\n",
    "    conn = f'lmdb://{db_path}'\n",
    "    arctic = Arctic(conn)\n",
    "    print(arctic)\n",
    "    library = arctic['lobster']\n",
    "\n",
    "    date_range = (start_date, end_date)\n",
    "    \n",
    "    if ticker in library.list_symbols():\n",
    "        print('warning - think about this in a second')\n",
    "        user_input = input(\"Are you sure you want to overwrite this symbol? (y/n):\")\n",
    "        user_input = user_input.lower()\n",
    "        if user_input == \"y\":\n",
    "            # no need to delete. it's versioned\n",
    "            pass\n",
    "            # library.delete(symbol=ticker)\n",
    "            # print(\"finished deleting\")\n",
    "        elif user_input == \"n\":\n",
    "            print(\"Deletion canceled.\")\n",
    "            sys.exit(0)\n",
    "        else:\n",
    "            print(\"Invalid input. Deletion canceled.\")\n",
    "            sys.exit(1)\n",
    "\n",
    "    print(\"loading data:\")\n",
    "    data = Data(directory_path=csv_path, ticker=ticker, date_range=date_range, aggregate_duplicates=False)\n",
    "    lobster = Lobster(data=data)\n",
    "    df = pd.concat([lobster.messages, lobster.book], axis=1)\n",
    "    print('finished preprocessing')\n",
    "    \n",
    "    library.write(symbol=ticker, data=df)"
   ]
  },
  {
   "cell_type": "code",
   "execution_count": null,
   "metadata": {},
   "outputs": [],
   "source": [
    "\n",
    "# connection to arctic-db\n",
    "CSV_DATA_PATH=\"/nfs/home/nicolasp/home/data/tmp\"\n",
    "ARCTIC_DATABASE_PATH = '/nfs/home/nicolasp/home/data/arctic'\n",
    "conn = f'lmdb://{ARCTIC_DATABASE_PATH}'\n",
    "arctic = Arctic(conn)\n",
    "library = arctic['lobster']\n",
    "\n",
    "FLAGS = flags.FLAGS\n",
    "flags.DEFINE_string(\"ticker\", None, \"ticker to convert to arctic db\")\n",
    "flags.mark_flag_as_required(\"ticker\")\n",
    "\n",
    "flags.DEFINE_string(\"start_date\", default=\"2020-01-01\", help=\"keep all files from start_date until end_date\")\n",
    "flags.DEFINE_string(\"end_date\", default=\"2020-02-01\", help=\"keep all files from start_date until end_date\")\n",
    "\n",
    "def main(argv):\n",
    "    ticker = FLAGS.ticker\n",
    "    print(f\"ticker is {ticker}\")\n",
    "    date_range = (FLAGS.start_date, FLAGS.end_date)\n",
    "    \n",
    "    if ticker in library.list_symbols():\n",
    "        print('warning - think about this in a second')\n",
    "        user_input = input(\"Are you sure you want to overwrite this symbol? (y/n):\")\n",
    "        user_input = user_input.lower()\n",
    "        if user_input == \"y\":\n",
    "            pass\n",
    "        elif user_input == \"n\":\n",
    "            print(\"Deletion canceled.\")\n",
    "            sys.exit(0)\n",
    "        else:\n",
    "            print(\"Invalid input. Deletion canceled.\")\n",
    "            sys.exit(1)\n",
    "\n",
    "        data = Data(directory_path=CSV_DATA_PATH, ticker=ticker, date_range=date_range, aggregate_duplicates=False)\n",
    "        lobster = Lobster(data=data)\n",
    "        df = pd.concat([lobster.messages, lobster.book], axis=1)\n",
    "        \n",
    "        # symbol still shows up when running ./test-db-connection.py\n",
    "        # library.delete(symbol=ticker)\n",
    "        \n",
    "        library.write(symbol=ticker, data=df)"
   ]
  },
  {
   "cell_type": "code",
   "execution_count": null,
   "metadata": {},
   "outputs": [],
   "source": [
    "# | hide\n",
    "import nbdev\n",
    "\n",
    "nbdev.nbdev_export()"
   ]
  }
 ],
 "metadata": {
  "kernelspec": {
   "display_name": "python3",
   "language": "python",
   "name": "python3"
  }
 },
 "nbformat": 4,
 "nbformat_minor": 4
}
