{
 "cells": [
  {
   "attachments": {},
   "cell_type": "markdown",
   "metadata": {},
   "source": [
    "# Arctic\n",
    "\n",
    "> Arctic helper scripts and functions."
   ]
  },
  {
   "cell_type": "code",
   "execution_count": null,
   "metadata": {},
   "outputs": [],
   "source": [
    "%load_ext autoreload\n",
    "%autoreload 2"
   ]
  },
  {
   "cell_type": "code",
   "execution_count": null,
   "metadata": {},
   "outputs": [],
   "source": [
    "# | default_exp arctic"
   ]
  },
  {
   "cell_type": "code",
   "execution_count": null,
   "metadata": {},
   "outputs": [],
   "source": [
    "# | hide\n",
    "from nbdev.showdoc import *"
   ]
  },
  {
   "cell_type": "code",
   "execution_count": null,
   "metadata": {},
   "outputs": [],
   "source": [
    "# | export\n",
    "import os\n",
    "\n",
    "import click\n",
    "from arcticdb import Arctic, LibraryOptions\n",
    "import hydra\n",
    "from hydra import initialize, initialize_config_module, initialize_config_dir, compose\n",
    "from omegaconf import OmegaConf\n",
    "from pathlib import Path\n",
    "from lobster_tools.config import (\n",
    "    MainConfig,\n",
    "    Overrides,\n",
    "    NASDAQExchange,\n",
    "    ETFMembers,\n",
    "    register_configs,\n",
    "    get_config,\n",
    ")\n",
    "from lobster_tools.preprocessing import Data, Lobster, infer_ticker_to_date_range, infer_ticker_to_ticker_path, infer_ticker_dict\n",
    "import sys\n",
    "import pandas as pd\n",
    "from logging import Logger\n",
    "from datetime import date"
   ]
  },
  {
   "cell_type": "markdown",
   "metadata": {},
   "source": [
    "When using the `@hydra.main` decorator, `register_configs` must be called. If simply using a notebook or writing the CLIs with `click`, it is enough to use `get_config`."
   ]
  },
  {
   "cell_type": "code",
   "execution_count": null,
   "metadata": {},
   "outputs": [],
   "source": [
    "# | export\n",
    "register_configs()\n",
    "cfg = get_config(overrides=Overrides.full_server)"
   ]
  },
  {
   "cell_type": "code",
   "execution_count": null,
   "metadata": {},
   "outputs": [],
   "source": [
    "# | export\n",
    "CONTEXT_SETTINGS = dict(\n",
    "    help_option_names=[\"-h\", \"--help\"],\n",
    "    token_normalize_func=lambda x: x.lower() if isinstance(x, str) else x,\n",
    "    show_default=True,\n",
    ")"
   ]
  },
  {
   "cell_type": "code",
   "execution_count": null,
   "metadata": {},
   "outputs": [],
   "source": [
    "# | export\n",
    "def get_arctic_library(db_path, library):\n",
    "    conn = f\"lmdb://{db_path}\"\n",
    "    arctic = Arctic(conn)\n",
    "    arctic_library = arctic[library]\n",
    "    return arctic_library"
   ]
  },
  {
   "cell_type": "code",
   "execution_count": null,
   "metadata": {},
   "outputs": [],
   "source": [
    "# | exports\n",
    "# | code-fold: true\n",
    "@click.command(context_settings=CONTEXT_SETTINGS)\n",
    "@click.option(\"-d\", \"--db_path\", default=cfg.db.db_path, help=\"database path\")\n",
    "@click.option(\"-l\", \"--library\", default=cfg.db.library, help=\"library name\")\n",
    "def arctic_list_symbols(db_path, library) -> None:\n",
    "    \"\"\"List symbols in the arcticdb library.\"\"\"\n",
    "    arctic_library = get_arctic_library(db_path=db_path, library=library)\n",
    "    print(f\"Symbols in library {library}\")\n",
    "    print(arctic_library.list_symbols())"
   ]
  },
  {
   "cell_type": "code",
   "execution_count": null,
   "metadata": {},
   "outputs": [],
   "source": [
    "# | exports\n",
    "# | code-fold: true\n",
    "@click.command(context_settings=CONTEXT_SETTINGS)\n",
    "@click.option(\"-d\", \"--db_path\", default=cfg.db.db_path, help=\"database path\")\n",
    "@click.option(\"-l\", \"--library\", default=cfg.db.library, help=\"library name\")\n",
    "def arctic_create_new_library(db_path, library) -> None:\n",
    "    \"\"\"Create a blank new arcticdb library.\"\"\"\n",
    "    conn = f\"lmdb://{db_path}\"\n",
    "    arctic = Arctic(conn)\n",
    "    arctic.create_library(library) \n",
    "    print(arctic[library])"
   ]
  },
  {
   "cell_type": "code",
   "execution_count": null,
   "metadata": {},
   "outputs": [],
   "source": [
    "\n",
    "# | exports\n",
    "# | code-fold: true\n",
    "@click.command(context_settings=CONTEXT_SETTINGS)\n",
    "@click.option(\"-d\", \"--db_path\", default=cfg.db.db_path, help=\"database path\")\n",
    "def arctic_list_libraries(db_path) -> None:\n",
    "    \"\"\"List arcticdb libraries\"\"\"\n",
    "\n",
    "    conn = f\"lmdb://{db_path}\"\n",
    "    arctic = Arctic(conn)\n",
    "    print(arctic.list_libraries())"
   ]
  },
  {
   "cell_type": "code",
   "execution_count": null,
   "metadata": {},
   "outputs": [],
   "source": [
    "# | exports\n",
    "# | code-fold: true\n",
    "@click.command(context_settings=CONTEXT_SETTINGS)\n",
    "@click.option(\"-d\", \"--db_path\", default=cfg.db.db_path, help=\"database path\")\n",
    "@click.option(\"-l\", \"--library\", default=cfg.db.library, help=\"library name\")\n",
    "def arctic_delete_library(db_path, library) -> None:\n",
    "    \"\"\"Delete arcticdb library\"\"\"\n",
    "\n",
    "    user_input = input(\"Proceed by deleting this entire library? (y/n): \")\n",
    "    user_input = user_input.lower()\n",
    "    match user_input:\n",
    "        case \"y\":\n",
    "            pass\n",
    "        case \"n\":\n",
    "            sys.exit(0)\n",
    "        case _:\n",
    "            sys.exit(1)\n",
    "\n",
    "    conn = f\"lmdb://{db_path}\"\n",
    "    arctic = Arctic(conn)\n",
    "    arctic.delete_library(library) "
   ]
  },
  {
   "cell_type": "code",
   "execution_count": null,
   "metadata": {},
   "outputs": [],
   "source": [
    "# | exports\n",
    "# | code-fold: true\n",
    "@click.command(context_settings=CONTEXT_SETTINGS)\n",
    "@click.option(\"-d\", \"--db_path\", default=cfg.db.db_path, help=\"database path\")\n",
    "@click.option(\"-l\", \"--library\", default=cfg.db.library, help=\"library name\")\n",
    "@click.option(\"-t\", \"--ticker\", required=True, help=\"ticker to print\")\n",
    "@click.option(\"-s\", \"--start_date\", default=None, help=\"start date\")\n",
    "@click.option(\"-e\", \"--end_date\", default=None, help=\"end date\")\n",
    "def arctic_read_symbol(db_path, library, ticker, start_date, end_date,\n",
    "):\n",
    "    \"\"\"Print df.head() and available columns for ticker in arcticdb library.\"\"\"\n",
    "    arctic_library = get_arctic_library(db_path=db_path, library=library)\n",
    "\n",
    "    if start_date and end_date:\n",
    "        start_datetime = pd.Timestamp(f\"{start_date}T{NASDAQExchange.exchange_open}\")\n",
    "        end_datetime = pd.Timestamp(f\"{end_date}T{NASDAQExchange.exchange_close}\")\n",
    "        date_range = (start_datetime, end_datetime)\n",
    "        df = arctic_library.read(ticker, date_range=date_range).data\n",
    "    else:\n",
    "        df = arctic_library.read(ticker).data\n",
    "    \n",
    "    print(f\"Printing df.head() and df.tail() for ticker {ticker}\")\n",
    "    print(df.head())\n",
    "    print(df.tail())"
   ]
  },
  {
   "cell_type": "markdown",
   "metadata": {},
   "source": [
    "Write to arctic again"
   ]
  },
  {
   "cell_type": "code",
   "execution_count": null,
   "metadata": {},
   "outputs": [],
   "source": [
    "# | exports\n",
    "# | code-fold: true\n",
    "@click.command(context_settings=CONTEXT_SETTINGS)\n",
    "@click.option(\n",
    "    \"-c\", \"--csv_path\", default=cfg.data_config.csv_files_path, help=\"csv files path\"\n",
    ")\n",
    "@click.option(\"-d\", \"--db_path\", default=cfg.db.db_path, help=\"database path\")\n",
    "@click.option(\"-l\", \"--library\", default=cfg.db.library, help=\"library name\")\n",
    "@click.option(\"-t\", \"--ticker\", required=True, help=\"ticker to write to db\")\n",
    "@click.option(\"-s\", \"--start_date\", default=\"2020-01-01\", help=\"start date\")\n",
    "@click.option(\"-e\", \"--end_date\", default=\"2020-02-01\", help=\"end date\")\n",
    "def arctic_write_symbol(\n",
    "    db_path,\n",
    "    library,\n",
    "    csv_path,\n",
    "    ticker,\n",
    "    start_date,\n",
    "    end_date,\n",
    "):\n",
    "    arctic_library = get_arctic_library(db_path=db_path, library=library)\n",
    "\n",
    "    # if ticker in arctic_library.list_symbols():\n",
    "    #     print(\"warning - there is already data for ths ticker\")\n",
    "    #     user_input = input(\"Proceed by adding data to this symbol? (y/n): \")\n",
    "    #     user_input = user_input.lower()\n",
    "    #     match user_input:\n",
    "    #         case \"y\":\n",
    "    #             pass\n",
    "    #         case \"n\":\n",
    "    #             sys.exit(0)\n",
    "    #         case _:\n",
    "    #             sys.exit(1)\n",
    "\n",
    "    date_range = (start_date, end_date)\n",
    "    data = Data(\n",
    "        directory_path=csv_path,\n",
    "        ticker=ticker,\n",
    "        date_range=date_range,\n",
    "        aggregate_duplicates=False,\n",
    "    )\n",
    "    lobster = Lobster(data=data)\n",
    "    df = pd.concat([lobster.messages, lobster.book], axis=1)\n",
    "\n",
    "    arctic_library.write(symbol=ticker, data=df)"
   ]
  },
  {
   "cell_type": "code",
   "execution_count": null,
   "metadata": {},
   "outputs": [],
   "source": [
    "# | exports\n",
    "# | code-fold: true\n",
    "@click.command(context_settings=CONTEXT_SETTINGS)\n",
    "@click.option(\n",
    "    \"-c\", \"--csv_path\", default=cfg.data_config.csv_files_path, help=\"csv files path\"\n",
    ")\n",
    "@click.option(\"-d\", \"--db_path\", default=cfg.db.db_path, help=\"database path\")\n",
    "@click.option(\"-l\", \"--library\", default=cfg.db.library, help=\"library name\")\n",
    "@click.option(\"-s\", \"--start_date\", default=None, help=\"start date\")\n",
    "@click.option(\"-e\", \"--end_date\", default=None, help=\"end date\")\n",
    "def arctic_generate_jobs(csv_path, db_path, library, start_date, end_date):\n",
    "    ticker_date_dict = infer_ticker_to_date_range(csv_path)\n",
    "    with open('arctic_commands.txt', 'w') as f:\n",
    "        for ticker, (inferred_start_date, inferred_end_date) in ticker_date_dict.items():\n",
    "            # if date is None use the inferred date, otherwise use the CLI argument\n",
    "            start_date = start_date or inferred_start_date\n",
    "            end_date = end_date or inferred_end_date\n",
    "            f.write(f\"arctic_write_symbol --csv_path={csv_path} --db_path={db_path} --library={library} --ticker={ticker} --start_date={start_date} --end_date={end_date} \\n\")"
   ]
  },
  {
   "cell_type": "code",
   "execution_count": null,
   "metadata": {},
   "outputs": [],
   "source": [
    "# | exports\n",
    "# | code-fold: true\n",
    "@click.command(context_settings=CONTEXT_SETTINGS)\n",
    "@click.option(\n",
    "    \"-z\",\n",
    "    \"--zip_path\",\n",
    "    default=\"/nfs/lobster_data/lobster_raw/2016\",\n",
    "    help=\"zip files path\",\n",
    ")\n",
    "@click.option(\n",
    "    \"-c\", \"--csv_path\", default=cfg.data_config.csv_files_path, help=\"csv files path\"\n",
    ")\n",
    "@click.option(\n",
    "    \"-e\", \"--etf\", default=None, help=\"restrict to subset specified by ETF members\"\n",
    ")\n",
    "def zip_generate_jobs(zip_path, csv_path, etf):\n",
    "    # ticker_date_dict = infer_ticker_to_ticker_path(zip_path)\n",
    "    # print(ticker_date_dict)\n",
    "    # if etf:\n",
    "    #     print(ETFMembers().mapping[etf])\n",
    "    #     ticker_date_dict = {\n",
    "    #         ticker: ticker_path\n",
    "    #         for ticker, ticker_path in ticker_date_dict.items()\n",
    "    #         if ticker in ETFMembers().mapping[etf] + [etf]\n",
    "    #     }\n",
    "    # print(ticker_date_dict)\n",
    "    ticker_dict = infer_ticker_dict(zip_path)\n",
    "    with open(\"zip_commands.txt\", \"w\") as f:\n",
    "        for ticker, dict_ in ticker_dict.items():\n",
    "            full = dict_[\"full\"]\n",
    "            ticker_till_end = dict_[\"ticker_till_end\"]\n",
    "            f.write(f\"mkdir {csv_path}/{ticker_till_end}\\n\")\n",
    "            f.write(f\"/nfs/home/nicolasp/usr/bin/7z x {full} -o{ticker_till_end}\\n\")"
   ]
  },
  {
   "cell_type": "code",
   "execution_count": null,
   "metadata": {},
   "outputs": [],
   "source": [
    "# | exports\n",
    "# | code-fold: true\n",
    "@click.command(context_settings=CONTEXT_SETTINGS)\n",
    "@click.option(\n",
    "    \"-c\", \"--csv_path\", default=cfg.data_config.csv_files_path, help=\"csv files path\"\n",
    ")\n",
    "@click.option(\"-d\", \"--db_path\", default=cfg.db.db_path, help=\"database path\")\n",
    "@click.option(\"-l\", \"--library\", default=cfg.db.library, help=\"library name\")\n",
    "@click.option(\"-t\", \"--ticker\", required=True, help=\"ticker to write to db\")\n",
    "@click.option(\"-s\", \"--start_date\", default=\"2020-01-01\", help=\"start date\")\n",
    "@click.option(\"-e\", \"--end_date\", default=\"2020-02-01\", help=\"end date\")\n",
    "def arctic_dump_all(\n",
    "    db_path,\n",
    "    library,\n",
    "    csv_path,\n",
    "    ticker,\n",
    "    start_date,\n",
    "    end_date,\n",
    "):\n",
    "    arctic_library = get_arctic_library(db_path=db_path, library=library)\n",
    "\n",
    "    if ticker in arctic_library.list_symbols():\n",
    "        print(\"warning - there is already data for ths ticker\")\n",
    "        user_input = input(\"Proceed by adding data to this symbol? (y/n): \")\n",
    "        user_input = user_input.lower()\n",
    "        match user_input:\n",
    "            case \"y\":\n",
    "                pass\n",
    "            case \"n\":\n",
    "                sys.exit(0)\n",
    "            case _:\n",
    "                sys.exit(1)\n",
    "\n",
    "    date_range = (start_date, end_date)\n",
    "    data = Data(\n",
    "        directory_path=csv_path,\n",
    "        ticker=ticker,\n",
    "        date_range=date_range,\n",
    "        aggregate_duplicates=False,\n",
    "    )\n",
    "    lobster = Lobster(data=data)\n",
    "    df = pd.concat([lobster.messages, lobster.book], axis=1)\n",
    "    print(df)\n",
    "\n",
    "    arctic_library.append(symbol=ticker, data=df)"
   ]
  },
  {
   "cell_type": "code",
   "execution_count": null,
   "metadata": {},
   "outputs": [],
   "source": [
    "# | hide\n",
    "import nbdev\n",
    "\n",
    "nbdev.nbdev_export()"
   ]
  }
 ],
 "metadata": {
  "kernelspec": {
   "display_name": "python3",
   "language": "python",
   "name": "python3"
  }
 },
 "nbformat": 4,
 "nbformat_minor": 4
}
