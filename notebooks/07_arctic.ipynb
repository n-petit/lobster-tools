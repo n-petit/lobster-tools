{
 "cells": [
  {
   "attachments": {},
   "cell_type": "markdown",
   "metadata": {},
   "source": [
    "# Arctic\n",
    "\n",
    "> Arctic helper scripts and functions."
   ]
  },
  {
   "cell_type": "code",
   "execution_count": null,
   "metadata": {},
   "outputs": [],
   "source": [
    "%load_ext autoreload\n",
    "%autoreload 2"
   ]
  },
  {
   "cell_type": "code",
   "execution_count": null,
   "metadata": {},
   "outputs": [],
   "source": [
    "# | default_exp arctic"
   ]
  },
  {
   "cell_type": "code",
   "execution_count": null,
   "metadata": {},
   "outputs": [],
   "source": [
    "# | hide\n",
    "from nbdev.showdoc import *"
   ]
  },
  {
   "cell_type": "code",
   "execution_count": null,
   "metadata": {},
   "outputs": [
    {
     "ename": "ImportError",
     "evalue": "cannot import name 'NASDAQExchange' from 'lobster_tools.config' (/nfs/home/nicolasp/home/code/lobster-tools/notebooks/lobster_tools/config.py)",
     "output_type": "error",
     "traceback": [
      "\u001b[0;31m---------------------------------------------------------------------------\u001b[0m",
      "\u001b[0;31mImportError\u001b[0m                               Traceback (most recent call last)",
      "\u001b[1;32m/nfs/home/nicolasp/home/code/lobster-tools/notebooks/07_arctic.ipynb Cell 5\u001b[0m line \u001b[0;36m1\n\u001b[1;32m      <a href='vscode-notebook-cell://ssh-remote%2Brapid-01/nfs/home/nicolasp/home/code/lobster-tools/notebooks/07_arctic.ipynb#W4sdnNjb2RlLXJlbW90ZQ%3D%3D?line=7'>8</a>\u001b[0m \u001b[39mfrom\u001b[39;00m \u001b[39momegaconf\u001b[39;00m \u001b[39mimport\u001b[39;00m OmegaConf\n\u001b[1;32m      <a href='vscode-notebook-cell://ssh-remote%2Brapid-01/nfs/home/nicolasp/home/code/lobster-tools/notebooks/07_arctic.ipynb#W4sdnNjb2RlLXJlbW90ZQ%3D%3D?line=8'>9</a>\u001b[0m \u001b[39mfrom\u001b[39;00m \u001b[39mpathlib\u001b[39;00m \u001b[39mimport\u001b[39;00m Path\n\u001b[0;32m---> <a href='vscode-notebook-cell://ssh-remote%2Brapid-01/nfs/home/nicolasp/home/code/lobster-tools/notebooks/07_arctic.ipynb#W4sdnNjb2RlLXJlbW90ZQ%3D%3D?line=9'>10</a>\u001b[0m \u001b[39mfrom\u001b[39;00m \u001b[39mlobster_tools\u001b[39;00m\u001b[39m.\u001b[39;00m\u001b[39mconfig\u001b[39;00m \u001b[39mimport\u001b[39;00m MainConfig, Overrides, NASDAQExchange, register_configs, get_config\n\u001b[1;32m     <a href='vscode-notebook-cell://ssh-remote%2Brapid-01/nfs/home/nicolasp/home/code/lobster-tools/notebooks/07_arctic.ipynb#W4sdnNjb2RlLXJlbW90ZQ%3D%3D?line=10'>11</a>\u001b[0m \u001b[39mfrom\u001b[39;00m \u001b[39mlobster_tools\u001b[39;00m\u001b[39m.\u001b[39;00m\u001b[39mpreprocessing\u001b[39;00m \u001b[39mimport\u001b[39;00m Data, Lobster\n\u001b[1;32m     <a href='vscode-notebook-cell://ssh-remote%2Brapid-01/nfs/home/nicolasp/home/code/lobster-tools/notebooks/07_arctic.ipynb#W4sdnNjb2RlLXJlbW90ZQ%3D%3D?line=11'>12</a>\u001b[0m \u001b[39mimport\u001b[39;00m \u001b[39msys\u001b[39;00m\n",
      "\u001b[0;31mImportError\u001b[0m: cannot import name 'NASDAQExchange' from 'lobster_tools.config' (/nfs/home/nicolasp/home/code/lobster-tools/notebooks/lobster_tools/config.py)"
     ]
    }
   ],
   "source": [
    "# | export\n",
    "import os\n",
    "\n",
    "import click\n",
    "from arcticdb import Arctic, LibraryOptions\n",
    "import hydra\n",
    "from hydra import initialize, initialize_config_module, initialize_config_dir, compose\n",
    "from omegaconf import OmegaConf\n",
    "from pathlib import Path\n",
    "from lobster_tools.config import MainConfig, Overrides, NASDAQExchange, register_configs, get_config\n",
    "from lobster_tools.preprocessing import Data, Lobster\n",
    "import sys\n",
    "import pandas as pd\n",
    "from logging import Logger\n",
    "from datetime import date"
   ]
  },
  {
   "cell_type": "markdown",
   "metadata": {},
   "source": [
    "When using the `@hydra.main` decorator, `register_configs` must be called. If simply using a notebook or writing the CLIs with `click`, it is enough to use `get_config`."
   ]
  },
  {
   "cell_type": "code",
   "execution_count": null,
   "metadata": {},
   "outputs": [],
   "source": [
    "# from lobster_tools.config import XLEUniverseConfig, SimpleHyperparametersConfig"
   ]
  },
  {
   "cell_type": "code",
   "execution_count": null,
   "metadata": {},
   "outputs": [],
   "source": [
    "# XLEUniverseConfig().equities\n",
    "# SimpleHyperparametersConfig()"
   ]
  },
  {
   "cell_type": "code",
   "execution_count": null,
   "metadata": {},
   "outputs": [],
   "source": [
    "# | export\n",
    "# register_configs()\n",
    "cfg = get_config(overrides=Overrides.full_server)\n",
    "cfg = get_config(overrides=['data_config=server', 'hyperparameters=full', 'universe=SPY'])"
   ]
  },
  {
   "cell_type": "code",
   "execution_count": null,
   "metadata": {},
   "outputs": [],
   "source": [
    "# | export\n",
    "\n",
    "CONTEXT_SETTINGS = dict(\n",
    "    help_option_names=[\"-h\", \"--help\"],\n",
    "    token_normalize_func=lambda x: x.lower() if isinstance(x, str) else x,\n",
    "    show_default=True,\n",
    ")"
   ]
  },
  {
   "cell_type": "code",
   "execution_count": null,
   "metadata": {},
   "outputs": [],
   "source": [
    "# | export\n",
    "\n",
    "def get_arctic_library(db_path, library):\n",
    "    conn = f\"lmdb://{db_path}\"\n",
    "    arctic = Arctic(conn)\n",
    "    arctic_library = arctic[library]\n",
    "    return arctic_library"
   ]
  },
  {
   "cell_type": "code",
   "execution_count": null,
   "metadata": {},
   "outputs": [],
   "source": [
    "@click.command(context_settings=CONTEXT_SETTINGS)\n",
    "@click.option(\"-d\", \"--db_path\", default=cfg.db.db_path, help=\"database path\")\n",
    "@click.option(\"-l\", \"--library\", default=cfg.db.library, help=\"library name\")\n",
    "def arctic_list_symbols(db_path, library) -> None:\n",
    "    \"\"\"List symbols in the arcticdb library.\"\"\"\n",
    "    arctic_library = get_arctic_library(db_path=db_path, library=library)\n",
    "    print(f\"Symbols in library {library}\")\n",
    "    print(arctic_library.list_symbols())"
   ]
  },
  {
   "cell_type": "code",
   "execution_count": null,
   "metadata": {},
   "outputs": [],
   "source": [
    "# | exports\n",
    "# | code-fold: true\n",
    "\n",
    "@click.command(context_settings=CONTEXT_SETTINGS)\n",
    "@click.option(\"-d\", \"--db_path\", default=cfg.db.db_path, help=\"database path\")\n",
    "@click.option(\"-l\", \"--library\", default=cfg.db.library, help=\"library name\")\n",
    "@click.option(\"-t\", \"--ticker\", required=True, help=\"ticker to print\")\n",
    "@click.option(\"-s\", \"--start_date\", default=\"2020-01-02\", help=\"start date\")\n",
    "@click.option(\"-e\", \"--end_date\", default=\"2020-01-07\", help=\"end date\")\n",
    "def arctic_read_symbol(db_path, library, ticker, start_date, end_date,\n",
    "):\n",
    "    \"\"\"Print df.head() and available columns for ticker in arcticdb library.\"\"\"\n",
    "    arctic_library = get_arctic_library(db_path=db_path, library=library)\n",
    "\n",
    "    start_datetime = pd.Timestamp(f\"{start_date}T{NASDAQExchange.exchange_open}\")\n",
    "    end_datetime = pd.Timestamp(f\"{end_date}T{NASDAQExchange.exchange_close}\")\n",
    "    date_range = (start_datetime, end_datetime)\n",
    "    df = arctic_library.read(ticker, date_range=date_range).data\n",
    "    \n",
    "    print(f\"Printing df.head() for ticker {ticker}\")\n",
    "    print(df.tail())"
   ]
  },
  {
   "cell_type": "markdown",
   "metadata": {},
   "source": [
    "Write to arctic again"
   ]
  },
  {
   "cell_type": "code",
   "execution_count": null,
   "metadata": {},
   "outputs": [],
   "source": [
    "# | exports\n",
    "# | code-fold: true\n",
    "\n",
    "\n",
    "@click.command(context_settings=CONTEXT_SETTINGS)\n",
    "@click.option(\n",
    "    \"-c\", \"--csv_path\", default=cfg.data_config.csv_files_path, help=\"csv files path\"\n",
    ")\n",
    "@click.option(\"-d\", \"--db_path\", default=cfg.db.db_path, help=\"database path\")\n",
    "@click.option(\"-l\", \"--library\", default=cfg.db.library, help=\"library name\")\n",
    "@click.option(\"-t\", \"--ticker\", required=True, help=\"ticker to write to db\")\n",
    "@click.option(\"-s\", \"--start_date\", default=\"2020-01-01\", help=\"start date\")\n",
    "@click.option(\"-e\", \"--end_date\", default=\"2020-02-01\", help=\"end date\")\n",
    "def arctic_write_symbol(\n",
    "    db_path,\n",
    "    library,\n",
    "    csv_path,\n",
    "    ticker,\n",
    "    start_date,\n",
    "    end_date,\n",
    "):\n",
    "    arctic_library = get_arctic_library(db_path=db_path, library=library)\n",
    "\n",
    "    if ticker in arctic_library.list_symbols():\n",
    "        print(\"warning - there is already data for ths ticker\")\n",
    "        user_input = input(\"Proceed by adding data to this symbol? (y/n): \")\n",
    "        user_input = user_input.lower()\n",
    "        match user_input:\n",
    "            case \"y\":\n",
    "                pass\n",
    "            case \"n\":\n",
    "                sys.exit(0)\n",
    "            case _:\n",
    "                sys.exit(1)\n",
    "\n",
    "    date_range = (start_date, end_date)\n",
    "    data = Data(\n",
    "        directory_path=csv_path,\n",
    "        ticker=ticker,\n",
    "        date_range=date_range,\n",
    "        aggregate_duplicates=False,\n",
    "    )\n",
    "    lobster = Lobster(data=data)\n",
    "    df = pd.concat([lobster.messages, lobster.book], axis=1)\n",
    "    print(df)\n",
    "\n",
    "    arctic_library.append(symbol=ticker, data=df)"
   ]
  },
  {
   "cell_type": "code",
   "execution_count": null,
   "metadata": {},
   "outputs": [],
   "source": [
    "# | hide\n",
    "import nbdev\n",
    "\n",
    "nbdev.nbdev_export()"
   ]
  }
 ],
 "metadata": {
  "kernelspec": {
   "display_name": "python3",
   "language": "python",
   "name": "python3"
  }
 },
 "nbformat": 4,
 "nbformat_minor": 4
}
