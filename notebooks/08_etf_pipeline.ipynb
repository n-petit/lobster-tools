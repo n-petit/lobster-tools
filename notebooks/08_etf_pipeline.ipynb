{
 "cells": [
  {
   "attachments": {},
   "cell_type": "markdown",
   "metadata": {},
   "source": [
    "# ETF Pipeline\n",
    "\n",
    "> ETF flow decompositions pipeline."
   ]
  },
  {
   "cell_type": "code",
   "execution_count": null,
   "metadata": {},
   "outputs": [],
   "source": [
    "%load_ext autoreload\n",
    "%autoreload 2"
   ]
  },
  {
   "cell_type": "code",
   "execution_count": null,
   "metadata": {},
   "outputs": [],
   "source": [
    "# | default_exp etf_pipeline"
   ]
  },
  {
   "cell_type": "code",
   "execution_count": null,
   "metadata": {},
   "outputs": [],
   "source": [
    "# | hide\n",
    "from nbdev.showdoc import *"
   ]
  },
  {
   "cell_type": "code",
   "execution_count": null,
   "metadata": {},
   "outputs": [],
   "source": [
    "# | export\n",
    "import os\n",
    "\n",
    "import click\n",
    "from arcticdb import Arctic, QueryBuilder\n",
    "from hydra import initialize, initialize_config_module, initialize_config_dir, compose\n",
    "from omegaconf import OmegaConf\n",
    "from pathlib import Path\n",
    "from lobster_tools.config import MainConfig, register_configs\n",
    "from lobster_tools.preprocessing import *\n",
    "from lobster_tools.querying import *\n",
    "from lobster_tools.flow_decomposition import *\n",
    "import pandas as pd\n",
    "from sklearn.linear_model import LinearRegression\n",
    "from itertools import product\n",
    "import datetime\n",
    "from dataclasses import dataclass\n",
    "from functools import partial\n",
    "import json\n",
    "from typing import Literal\n",
    "import numpy as np\n",
    "from pprint import pprint"
   ]
  },
  {
   "cell_type": "code",
   "execution_count": null,
   "metadata": {},
   "outputs": [
    {
     "name": "stdout",
     "output_type": "stream",
     "text": [
      "['hyperparameters=full']\n",
      "{'hyperparameters': {'tolerances': ['150us', '500us'], 'resample_freq': '5min', 'markouts': ['30S', '5min']}, 'universe': {'etfs': ['SPY'], 'equities': ['AIG', 'GE']}, 'data_config': {'date_range': ['2020-01-02', '2020-01-02'], 'csv_files_path': '/nfs/home/nicolasp/home/data/tmp', 'zip_files_path': '/nfs/lobster_data/lobster_raw'}, 'db': {'db_path': '/nfs/home/nicolasp/home/data/arctic', 'library_name': 'lobster', 'columns_per_segment': 63}, 'sample_data': {'ticker': 'AMZN', 'levels': 5}}\n",
      "MainConfig(defaults=[{'hyperparameters': 'simple'}, {'universe': 'simple'}, {'data_config': 'local'}, '_self_'], db=ArcticDBConfig(db_path='/nfs/home/nicolasp/home/data/arctic', library_name='lobster', columns_per_segment=63), data_config=DataConfig(date_range=['2020-01-02', '2020-01-02'], csv_files_path='/nfs/home/nicolasp/home/data/tmp'), hyperparameters=HyperparametersConfig(tolerances=['150us', '500us'], resample_freq='5min', markouts=['30S', '5min']), universe=UniverseConfig(etfs=['SPY']), sample_data=SampleDataConfig(ticker='AMZN', levels=5))\n"
     ]
    }
   ],
   "source": [
    "# | export\n",
    "\n",
    "def set_hydra_overrides(execution_environment: Literal[\"local\", \"server\"]):\n",
    "    match execution_environment:\n",
    "        case \"local\":\n",
    "            overrides = [\"hyperparameters=simple\", \"universe=simple\", \"data_config=local\"]\n",
    "        case \"server\":\n",
    "            # overrides = [\"hyperparameters=full\", \"universe=XLE\", \"data_config=server\"]\n",
    "            overrides = [\"hyperparameters=full\"]\n",
    "        case _:\n",
    "            raise ValueError(\"execution_environment must be either 'local' or 'server'\")\n",
    "    return overrides\n",
    "\n",
    "os.environ[\"ETF_RUN_MODE\"] = \"server\"\n",
    "execution_environment = os.environ.get(\"ETF_RUN_MODE\")\n",
    "overrides = set_hydra_overrides(execution_environment)\n",
    "print(overrides)\n",
    "overrides = [\"hyperparameters=simple\", \"universe=simple\", \"data_config=local\"]\n",
    "\n",
    "register_configs()\n",
    "with initialize(version_base=None, config_path=None):\n",
    "    \n",
    "    # defaults = [{\"hyperparameters\": \"simple\"}, \"_self_\", {\"override hydra/launcher\": \"joblib\"}]\n",
    "    overrides = [\"data_config.csv_files_path=baz\"]\n",
    "    overrides = [\"data_config=server\"]\n",
    "    cfg_omega = compose(config_name=\"config\", overrides=overrides)\n",
    "    print(cfg_omega)\n",
    "    cfg: MainConfig = OmegaConf.to_object(compose(config_name=\"config\", overrides=overrides))\n",
    "    print(cfg)\n",
    "\n",
    "directory_path = cfg.data_config.csv_files_path\n",
    "etfs = cfg.universe.etfs\n",
    "equities = cfg.universe.equities\n",
    "# fix this\n",
    "date_range = tuple(cfg.data_config.date_range)\n",
    "markouts = cfg.hyperparameters.markouts\n",
    "finest_resample = cfg.hyperparameters.finest_resample\n",
    "max_markout = cfg.hyperparameters.max_markout\n",
    "\n",
    "load: Literal[\"both\", \"messages\", \"book\"] = \"both\"\n",
    "clip_trading_hours = True\n",
    "add_ticker_column = True\n",
    "\n",
    "ticker = \"APA\"\n",
    "date_range = (\"2020-01-02\", \"2020-01-04\")\n",
    "date_range = \"2020-01-02\""
   ]
  },
  {
   "cell_type": "code",
   "execution_count": null,
   "metadata": {},
   "outputs": [],
   "source": [
    "# with initialize_config_module(version_base=None, config_module=\"lobster_tools.config\"):\n",
    "#     cfg = compose(overrides=[\"data_config=server\"])\n",
    "#     print(cfg)"
   ]
  },
  {
   "cell_type": "code",
   "execution_count": null,
   "metadata": {},
   "outputs": [],
   "source": [
    "# Data = partial(Data, \n",
    "#                     ticker=\"GE\", \n",
    "#                     date_range=date_range,\n",
    "#                     directory_path=directory_path,\n",
    "#                     load=load,\n",
    "#                 )"
   ]
  },
  {
   "cell_type": "markdown",
   "metadata": {},
   "source": [
    "### Single day"
   ]
  },
  {
   "cell_type": "code",
   "execution_count": null,
   "metadata": {},
   "outputs": [],
   "source": [
    "# | eval: false\n",
    "Data(directory_path=directory_path, ticker=\"APA\", date_range=\"2020-01-02\")"
   ]
  },
  {
   "cell_type": "code",
   "execution_count": null,
   "metadata": {},
   "outputs": [],
   "source": [
    "# | eval: false\n",
    "equity_data = Data(directory_path=directory_path,\n",
    "                   ticker=ticker,\n",
    "                   date_range=date_range,\n",
    "                   load=load,\n",
    "                   clip_trading_hours=clip_trading_hours,\n",
    "                   add_ticker_column=add_ticker_column)\n",
    "\n",
    "equity_lobsters = Lobster(equity_data)"
   ]
  },
  {
   "cell_type": "markdown",
   "metadata": {},
   "source": [
    "### Multi-day"
   ]
  },
  {
   "cell_type": "code",
   "execution_count": null,
   "metadata": {},
   "outputs": [],
   "source": [
    "# | eval: false\n",
    "equity_data = [\n",
    "    Data(\n",
    "        directory_path=directory_path,\n",
    "        ticker=ticker,\n",
    "        date_range=date_range,\n",
    "        load=load,\n",
    "        clip_trading_hours=clip_trading_hours,\n",
    "        add_ticker_column=add_ticker_column,\n",
    "    )\n",
    "    for ticker in equities\n",
    "]\n",
    "\n",
    "equity_lobsters = [Lobster(data) for data in equity_data]\n",
    "\n",
    "equity_executions = pd.concat(\n",
    "    [lobster.messages.pipe(get_executions) for lobster in equity_lobsters]\n",
    ")\n",
    "equity_executions.sort_index(inplace=True)"
   ]
  },
  {
   "cell_type": "code",
   "execution_count": null,
   "metadata": {},
   "outputs": [],
   "source": [
    "# | eval: false\n",
    "etf_data = [\n",
    "    Data(\n",
    "        directory_path=directory_path,\n",
    "        ticker=ticker,\n",
    "        date_range=date_range,\n",
    "        load=load,\n",
    "        clip_trading_hours=clip_trading_hours,\n",
    "        add_ticker_column=add_ticker_column,\n",
    "    )\n",
    "    for ticker in etfs\n",
    "]\n",
    "\n",
    "etf_lobsters = [Lobster(data) for data in etf_data]\n",
    "\n",
    "etf_executions = pd.concat(\n",
    "    [lobster.messages.pipe(get_executions) for lobster in etf_lobsters]\n",
    ")\n",
    "etf_executions.sort_index(inplace=True)"
   ]
  },
  {
   "cell_type": "markdown",
   "metadata": {},
   "source": [
    "### Load with ArcticDB"
   ]
  },
  {
   "cell_type": "code",
   "execution_count": null,
   "metadata": {},
   "outputs": [
    {
     "name": "stdout",
     "output_type": "stream",
     "text": [
      "available tickers:\n",
      "['APA', 'XOM', 'EOG', 'OXY', 'MPC', 'HES', 'BKR', 'KMI', 'PXD', 'PSX', 'XLE', 'HAL', 'DVN', 'OKE', 'CVX', 'FANG', 'VLO', 'WMB', 'COP', 'SLB']\n"
     ]
    }
   ],
   "source": [
    "# | eval: false\n",
    "db_path = cfg.db.db_path\n",
    "\n",
    "conn = f'lmdb://{db_path}'\n",
    "arctic = Arctic(conn)\n",
    "\n",
    "library = arctic['lobster']\n",
    "print('available tickers:')\n",
    "print(library.list_symbols())"
   ]
  },
  {
   "cell_type": "code",
   "execution_count": null,
   "metadata": {},
   "outputs": [],
   "source": [
    "# | eval: false\n",
    "def get_data_from_arctic(ticker, date):\n",
    "    q = QueryBuilder()\n",
    "    q = q.date_range((pd.Timestamp(f\"{date}T09:29\"), pd.Timestamp(f\"{date}T16:01\")))\n",
    "    # get executions\n",
    "    q = q[q.event.isin(EventGroup.EXECUTIONS.value)]\n",
    "    df = library.read(ticker, query_builder=q, columns=[\"event\", \"order_id\", \"size\", \"price\", \"direction\", \"bid_price_1\", \"ask_price_1\"]).data\n",
    "    \n",
    "    # do assign here for now\n",
    "    df = df.assign(ticker=ticker)\n",
    "    return df"
   ]
  },
  {
   "cell_type": "code",
   "execution_count": null,
   "metadata": {},
   "outputs": [],
   "source": [
    "# | eval: false\n",
    "def get_data_from_arctic_(ticker):\n",
    "    q = QueryBuilder()\n",
    "    q = q.date_range((pd.Timestamp(f\"2020-01-02T09:29\"), pd.Timestamp(f\"2020-01-03T16:01\")))\n",
    "    # get executions\n",
    "    q = q[q.event.isin(EventGroup.EXECUTIONS.value)]\n",
    "    df = library.read(ticker, query_builder=q, columns=[\"event\", \"order_id\", \"size\", \"price\", \"direction\", \"bid_price_1\", \"ask_price_1\"]).data\n",
    "    \n",
    "    # do assign here for now\n",
    "    df = df.assign(ticker=ticker)\n",
    "    return df"
   ]
  },
  {
   "cell_type": "code",
   "execution_count": null,
   "metadata": {},
   "outputs": [],
   "source": [
    "# | eval: false\n",
    "# equities=[\"APA\", \"BKR\", \"HAL\"]\n",
    "# all csv in folder\n",
    "# equities=['APA', 'XOM', 'EOG', 'OXY', 'MPC', 'HES', 'BKR', 'KMI', 'PXD', 'PSX', 'HAL', 'DVN', 'OKE', 'CVX', 'FANG', 'VLO', 'WMB', 'COP', 'SLB']\n",
    "equities = ['HES',\n",
    " 'EOG',\n",
    " 'VLO',\n",
    " 'DVN',\n",
    " 'OXY',\n",
    " 'PXD',\n",
    " 'XOM',\n",
    " 'COP',\n",
    " 'WMB',\n",
    " 'HAL',\n",
    " 'PSX',\n",
    " 'CVX',\n",
    " 'OKE',\n",
    " 'BKR']\n",
    "etfs = [\"XLE\"]"
   ]
  },
  {
   "cell_type": "code",
   "execution_count": null,
   "metadata": {},
   "outputs": [],
   "source": [
    "# | eval: false\n",
    "equity_executions = pd.concat(\n",
    "    [get_data_from_arctic_(ticker=ticker) for ticker in equities]\n",
    ").sort_index()"
   ]
  },
  {
   "cell_type": "code",
   "execution_count": null,
   "metadata": {},
   "outputs": [
    {
     "data": {
      "text/html": [
       "<div>\n",
       "<style scoped>\n",
       "    .dataframe tbody tr th:only-of-type {\n",
       "        vertical-align: middle;\n",
       "    }\n",
       "\n",
       "    .dataframe tbody tr th {\n",
       "        vertical-align: top;\n",
       "    }\n",
       "\n",
       "    .dataframe thead th {\n",
       "        text-align: right;\n",
       "    }\n",
       "</style>\n",
       "<table border=\"1\" class=\"dataframe\">\n",
       "  <thead>\n",
       "    <tr style=\"text-align: right;\">\n",
       "      <th></th>\n",
       "      <th>event</th>\n",
       "      <th>order_id</th>\n",
       "      <th>size</th>\n",
       "      <th>price</th>\n",
       "      <th>direction</th>\n",
       "      <th>ask_price_1</th>\n",
       "      <th>bid_price_1</th>\n",
       "      <th>ticker</th>\n",
       "    </tr>\n",
       "    <tr>\n",
       "      <th>datetime</th>\n",
       "      <th></th>\n",
       "      <th></th>\n",
       "      <th></th>\n",
       "      <th></th>\n",
       "      <th></th>\n",
       "      <th></th>\n",
       "      <th></th>\n",
       "      <th></th>\n",
       "    </tr>\n",
       "  </thead>\n",
       "  <tbody>\n",
       "    <tr>\n",
       "      <th>2020-01-02 09:30:00.207048226</th>\n",
       "      <td>6</td>\n",
       "      <td>4294967295</td>\n",
       "      <td>0</td>\n",
       "      <td>0.00</td>\n",
       "      <td>-1</td>\n",
       "      <td>112.28</td>\n",
       "      <td>110.94</td>\n",
       "      <td>PSX</td>\n",
       "    </tr>\n",
       "    <tr>\n",
       "      <th>2020-01-02 09:30:00.231936724</th>\n",
       "      <td>6</td>\n",
       "      <td>4294967295</td>\n",
       "      <td>0</td>\n",
       "      <td>0.00</td>\n",
       "      <td>-1</td>\n",
       "      <td>26.34</td>\n",
       "      <td>26.04</td>\n",
       "      <td>DVN</td>\n",
       "    </tr>\n",
       "    <tr>\n",
       "      <th>2020-01-02 09:30:00.261987791</th>\n",
       "      <td>6</td>\n",
       "      <td>4294967295</td>\n",
       "      <td>0</td>\n",
       "      <td>0.00</td>\n",
       "      <td>-1</td>\n",
       "      <td>121.30</td>\n",
       "      <td>120.50</td>\n",
       "      <td>CVX</td>\n",
       "    </tr>\n",
       "    <tr>\n",
       "      <th>2020-01-02 09:30:00.341665721</th>\n",
       "      <td>6</td>\n",
       "      <td>4294967295</td>\n",
       "      <td>0</td>\n",
       "      <td>0.00</td>\n",
       "      <td>-1</td>\n",
       "      <td>41.70</td>\n",
       "      <td>41.60</td>\n",
       "      <td>OXY</td>\n",
       "    </tr>\n",
       "    <tr>\n",
       "      <th>2020-01-02 09:30:00.483424790</th>\n",
       "      <td>6</td>\n",
       "      <td>4294967295</td>\n",
       "      <td>0</td>\n",
       "      <td>0.00</td>\n",
       "      <td>-1</td>\n",
       "      <td>152.40</td>\n",
       "      <td>150.86</td>\n",
       "      <td>PXD</td>\n",
       "    </tr>\n",
       "    <tr>\n",
       "      <th>...</th>\n",
       "      <td>...</td>\n",
       "      <td>...</td>\n",
       "      <td>...</td>\n",
       "      <td>...</td>\n",
       "      <td>...</td>\n",
       "      <td>...</td>\n",
       "      <td>...</td>\n",
       "      <td>...</td>\n",
       "    </tr>\n",
       "    <tr>\n",
       "      <th>2020-01-03 15:59:59.930380639</th>\n",
       "      <td>4</td>\n",
       "      <td>306687397</td>\n",
       "      <td>200</td>\n",
       "      <td>65.71</td>\n",
       "      <td>1</td>\n",
       "      <td>65.75</td>\n",
       "      <td>65.71</td>\n",
       "      <td>COP</td>\n",
       "    </tr>\n",
       "    <tr>\n",
       "      <th>2020-01-03 15:59:59.930380639</th>\n",
       "      <td>4</td>\n",
       "      <td>306687421</td>\n",
       "      <td>100</td>\n",
       "      <td>65.71</td>\n",
       "      <td>1</td>\n",
       "      <td>65.75</td>\n",
       "      <td>65.69</td>\n",
       "      <td>COP</td>\n",
       "    </tr>\n",
       "    <tr>\n",
       "      <th>2020-01-03 15:59:59.951695932</th>\n",
       "      <td>4</td>\n",
       "      <td>342373083</td>\n",
       "      <td>100</td>\n",
       "      <td>76.57</td>\n",
       "      <td>-1</td>\n",
       "      <td>76.59</td>\n",
       "      <td>76.56</td>\n",
       "      <td>OKE</td>\n",
       "    </tr>\n",
       "    <tr>\n",
       "      <th>2020-01-03 15:59:59.952646135</th>\n",
       "      <td>4</td>\n",
       "      <td>367478624</td>\n",
       "      <td>100</td>\n",
       "      <td>70.31</td>\n",
       "      <td>1</td>\n",
       "      <td>70.32</td>\n",
       "      <td>70.30</td>\n",
       "      <td>XOM</td>\n",
       "    </tr>\n",
       "    <tr>\n",
       "      <th>2020-01-03 15:59:59.961708615</th>\n",
       "      <td>4</td>\n",
       "      <td>367587768</td>\n",
       "      <td>200</td>\n",
       "      <td>70.32</td>\n",
       "      <td>-1</td>\n",
       "      <td>70.33</td>\n",
       "      <td>70.30</td>\n",
       "      <td>XOM</td>\n",
       "    </tr>\n",
       "  </tbody>\n",
       "</table>\n",
       "<p>214142 rows × 8 columns</p>\n",
       "</div>"
      ],
      "text/plain": [
       "                               event    order_id  size  price  direction  \\\n",
       "datetime                                                                   \n",
       "2020-01-02 09:30:00.207048226      6  4294967295     0   0.00         -1   \n",
       "2020-01-02 09:30:00.231936724      6  4294967295     0   0.00         -1   \n",
       "2020-01-02 09:30:00.261987791      6  4294967295     0   0.00         -1   \n",
       "2020-01-02 09:30:00.341665721      6  4294967295     0   0.00         -1   \n",
       "2020-01-02 09:30:00.483424790      6  4294967295     0   0.00         -1   \n",
       "...                              ...         ...   ...    ...        ...   \n",
       "2020-01-03 15:59:59.930380639      4   306687397   200  65.71          1   \n",
       "2020-01-03 15:59:59.930380639      4   306687421   100  65.71          1   \n",
       "2020-01-03 15:59:59.951695932      4   342373083   100  76.57         -1   \n",
       "2020-01-03 15:59:59.952646135      4   367478624   100  70.31          1   \n",
       "2020-01-03 15:59:59.961708615      4   367587768   200  70.32         -1   \n",
       "\n",
       "                               ask_price_1  bid_price_1 ticker  \n",
       "datetime                                                        \n",
       "2020-01-02 09:30:00.207048226       112.28       110.94    PSX  \n",
       "2020-01-02 09:30:00.231936724        26.34        26.04    DVN  \n",
       "2020-01-02 09:30:00.261987791       121.30       120.50    CVX  \n",
       "2020-01-02 09:30:00.341665721        41.70        41.60    OXY  \n",
       "2020-01-02 09:30:00.483424790       152.40       150.86    PXD  \n",
       "...                                    ...          ...    ...  \n",
       "2020-01-03 15:59:59.930380639        65.75        65.71    COP  \n",
       "2020-01-03 15:59:59.930380639        65.75        65.69    COP  \n",
       "2020-01-03 15:59:59.951695932        76.59        76.56    OKE  \n",
       "2020-01-03 15:59:59.952646135        70.32        70.30    XOM  \n",
       "2020-01-03 15:59:59.961708615        70.33        70.30    XOM  \n",
       "\n",
       "[214142 rows x 8 columns]"
      ]
     },
     "execution_count": null,
     "metadata": {},
     "output_type": "execute_result"
    }
   ],
   "source": [
    "# | eval: false\n",
    "equity_executions"
   ]
  },
  {
   "cell_type": "code",
   "execution_count": null,
   "metadata": {},
   "outputs": [],
   "source": [
    "# | eval: false\n",
    "etf_executions = pd.concat(\n",
    "    [get_data_from_arctic(ticker=ticker, date=\"2020-01-02\") for ticker in etfs]\n",
    ").sort_index()"
   ]
  },
  {
   "cell_type": "code",
   "execution_count": null,
   "metadata": {},
   "outputs": [],
   "source": [
    "# | eval: false\n",
    "etf_executions = pd.concat(\n",
    "    [get_data_from_arctic_(ticker=ticker) for ticker in etfs]\n",
    ").sort_index()"
   ]
  },
  {
   "cell_type": "code",
   "execution_count": null,
   "metadata": {},
   "outputs": [],
   "source": [
    "#TODO: pickle and load pickles.. looks like nbdev doesn't work with cell magics"
   ]
  },
  {
   "cell_type": "code",
   "execution_count": null,
   "metadata": {},
   "outputs": [],
   "source": [
    "# | eval: false\n",
    "%store etf_executions\n",
    "%store equity_executions"
   ]
  },
  {
   "cell_type": "markdown",
   "metadata": {},
   "source": [
    "### Cell magic doesn't work with nbdev(?)"
   ]
  },
  {
   "cell_type": "code",
   "execution_count": null,
   "metadata": {},
   "outputs": [],
   "source": [
    "# | eval: false\n",
    "%store -r"
   ]
  },
  {
   "cell_type": "code",
   "execution_count": null,
   "metadata": {},
   "outputs": [
    {
     "data": {
      "text/html": [
       "<div>\n",
       "<style scoped>\n",
       "    .dataframe tbody tr th:only-of-type {\n",
       "        vertical-align: middle;\n",
       "    }\n",
       "\n",
       "    .dataframe tbody tr th {\n",
       "        vertical-align: top;\n",
       "    }\n",
       "\n",
       "    .dataframe thead th {\n",
       "        text-align: right;\n",
       "    }\n",
       "</style>\n",
       "<table border=\"1\" class=\"dataframe\">\n",
       "  <thead>\n",
       "    <tr style=\"text-align: right;\">\n",
       "      <th></th>\n",
       "      <th>_XLE_5T_ofi_all</th>\n",
       "    </tr>\n",
       "    <tr>\n",
       "      <th>datetime</th>\n",
       "      <th></th>\n",
       "    </tr>\n",
       "  </thead>\n",
       "  <tbody>\n",
       "    <tr>\n",
       "      <th>2020-01-02 09:35:00</th>\n",
       "      <td>-0.286895</td>\n",
       "    </tr>\n",
       "    <tr>\n",
       "      <th>2020-01-02 09:40:00</th>\n",
       "      <td>-0.117865</td>\n",
       "    </tr>\n",
       "    <tr>\n",
       "      <th>2020-01-02 09:45:00</th>\n",
       "      <td>-0.267735</td>\n",
       "    </tr>\n",
       "    <tr>\n",
       "      <th>2020-01-02 09:50:00</th>\n",
       "      <td>0.243213</td>\n",
       "    </tr>\n",
       "    <tr>\n",
       "      <th>2020-01-02 09:55:00</th>\n",
       "      <td>0.127504</td>\n",
       "    </tr>\n",
       "    <tr>\n",
       "      <th>...</th>\n",
       "      <td>...</td>\n",
       "    </tr>\n",
       "    <tr>\n",
       "      <th>2020-01-03 15:40:00</th>\n",
       "      <td>0.078445</td>\n",
       "    </tr>\n",
       "    <tr>\n",
       "      <th>2020-01-03 15:45:00</th>\n",
       "      <td>0.073457</td>\n",
       "    </tr>\n",
       "    <tr>\n",
       "      <th>2020-01-03 15:50:00</th>\n",
       "      <td>-0.337984</td>\n",
       "    </tr>\n",
       "    <tr>\n",
       "      <th>2020-01-03 15:55:00</th>\n",
       "      <td>-0.287767</td>\n",
       "    </tr>\n",
       "    <tr>\n",
       "      <th>2020-01-03 16:00:00</th>\n",
       "      <td>-0.086425</td>\n",
       "    </tr>\n",
       "  </tbody>\n",
       "</table>\n",
       "<p>366 rows × 1 columns</p>\n",
       "</div>"
      ],
      "text/plain": [
       "                     _XLE_5T_ofi_all\n",
       "datetime                            \n",
       "2020-01-02 09:35:00        -0.286895\n",
       "2020-01-02 09:40:00        -0.117865\n",
       "2020-01-02 09:45:00        -0.267735\n",
       "2020-01-02 09:50:00         0.243213\n",
       "2020-01-02 09:55:00         0.127504\n",
       "...                              ...\n",
       "2020-01-03 15:40:00         0.078445\n",
       "2020-01-03 15:45:00         0.073457\n",
       "2020-01-03 15:50:00        -0.337984\n",
       "2020-01-03 15:55:00        -0.287767\n",
       "2020-01-03 16:00:00        -0.086425\n",
       "\n",
       "[366 rows x 1 columns]"
      ]
     },
     "execution_count": null,
     "metadata": {},
     "output_type": "execute_result"
    }
   ],
   "source": [
    "# | eval: false\n",
    "ofi_all = ofi(etf_executions, resample_freq=\"5T\", suffix=\"all\")\n",
    "ofi_all"
   ]
  },
  {
   "cell_type": "code",
   "execution_count": null,
   "metadata": {},
   "outputs": [
    {
     "data": {
      "text/html": [
       "<div>\n",
       "<style scoped>\n",
       "    .dataframe tbody tr th:only-of-type {\n",
       "        vertical-align: middle;\n",
       "    }\n",
       "\n",
       "    .dataframe tbody tr th {\n",
       "        vertical-align: top;\n",
       "    }\n",
       "\n",
       "    .dataframe thead th {\n",
       "        text-align: right;\n",
       "    }\n",
       "</style>\n",
       "<table border=\"1\" class=\"dataframe\">\n",
       "  <thead>\n",
       "    <tr style=\"text-align: right;\">\n",
       "      <th></th>\n",
       "      <th>_30S</th>\n",
       "      <th>_5min</th>\n",
       "    </tr>\n",
       "    <tr>\n",
       "      <th>datetime</th>\n",
       "      <th></th>\n",
       "      <th></th>\n",
       "    </tr>\n",
       "  </thead>\n",
       "  <tbody>\n",
       "    <tr>\n",
       "      <th>2020-01-02 09:35:00</th>\n",
       "      <td>2020-01-02 09:35:30</td>\n",
       "      <td>2020-01-02 09:40:00</td>\n",
       "    </tr>\n",
       "    <tr>\n",
       "      <th>2020-01-02 09:40:00</th>\n",
       "      <td>2020-01-02 09:40:30</td>\n",
       "      <td>2020-01-02 09:45:00</td>\n",
       "    </tr>\n",
       "    <tr>\n",
       "      <th>2020-01-02 09:45:00</th>\n",
       "      <td>2020-01-02 09:45:30</td>\n",
       "      <td>2020-01-02 09:50:00</td>\n",
       "    </tr>\n",
       "    <tr>\n",
       "      <th>2020-01-02 09:50:00</th>\n",
       "      <td>2020-01-02 09:50:30</td>\n",
       "      <td>2020-01-02 09:55:00</td>\n",
       "    </tr>\n",
       "    <tr>\n",
       "      <th>2020-01-02 09:55:00</th>\n",
       "      <td>2020-01-02 09:55:30</td>\n",
       "      <td>2020-01-02 10:00:00</td>\n",
       "    </tr>\n",
       "    <tr>\n",
       "      <th>...</th>\n",
       "      <td>...</td>\n",
       "      <td>...</td>\n",
       "    </tr>\n",
       "    <tr>\n",
       "      <th>2020-01-03 15:40:00</th>\n",
       "      <td>2020-01-03 15:40:30</td>\n",
       "      <td>2020-01-03 15:45:00</td>\n",
       "    </tr>\n",
       "    <tr>\n",
       "      <th>2020-01-03 15:45:00</th>\n",
       "      <td>2020-01-03 15:45:30</td>\n",
       "      <td>2020-01-03 15:50:00</td>\n",
       "    </tr>\n",
       "    <tr>\n",
       "      <th>2020-01-03 15:50:00</th>\n",
       "      <td>2020-01-03 15:50:30</td>\n",
       "      <td>2020-01-03 15:55:00</td>\n",
       "    </tr>\n",
       "    <tr>\n",
       "      <th>2020-01-03 15:55:00</th>\n",
       "      <td>2020-01-03 15:55:30</td>\n",
       "      <td>2020-01-03 16:00:00</td>\n",
       "    </tr>\n",
       "    <tr>\n",
       "      <th>2020-01-03 16:00:00</th>\n",
       "      <td>2020-01-03 16:00:30</td>\n",
       "      <td>2020-01-03 16:05:00</td>\n",
       "    </tr>\n",
       "  </tbody>\n",
       "</table>\n",
       "<p>366 rows × 2 columns</p>\n",
       "</div>"
      ],
      "text/plain": [
       "                                   _30S               _5min\n",
       "datetime                                                   \n",
       "2020-01-02 09:35:00 2020-01-02 09:35:30 2020-01-02 09:40:00\n",
       "2020-01-02 09:40:00 2020-01-02 09:40:30 2020-01-02 09:45:00\n",
       "2020-01-02 09:45:00 2020-01-02 09:45:30 2020-01-02 09:50:00\n",
       "2020-01-02 09:50:00 2020-01-02 09:50:30 2020-01-02 09:55:00\n",
       "2020-01-02 09:55:00 2020-01-02 09:55:30 2020-01-02 10:00:00\n",
       "...                                 ...                 ...\n",
       "2020-01-03 15:40:00 2020-01-03 15:40:30 2020-01-03 15:45:00\n",
       "2020-01-03 15:45:00 2020-01-03 15:45:30 2020-01-03 15:50:00\n",
       "2020-01-03 15:50:00 2020-01-03 15:50:30 2020-01-03 15:55:00\n",
       "2020-01-03 15:55:00 2020-01-03 15:55:30 2020-01-03 16:00:00\n",
       "2020-01-03 16:00:00 2020-01-03 16:00:30 2020-01-03 16:05:00\n",
       "\n",
       "[366 rows x 2 columns]"
      ]
     },
     "execution_count": null,
     "metadata": {},
     "output_type": "execute_result"
    }
   ],
   "source": [
    "# | eval: false\n",
    "markout_times = markout_returns(ofi_all, markouts=markouts)\n",
    "markout_times"
   ]
  },
  {
   "cell_type": "code",
   "execution_count": null,
   "metadata": {},
   "outputs": [],
   "source": [
    "mids = etf_executions.eval(\"bid_price_1 + (ask_price_1 - bid_price_1) / 2\").resample(finest_resample, label=\"right\").last()\n",
    "mids = pd.DataFrame(mids, columns=etfs)\n",
    "# mids.resample(resample_freq, label=\"right\").last()"
   ]
  },
  {
   "cell_type": "code",
   "execution_count": null,
   "metadata": {},
   "outputs": [
    {
     "data": {
      "text/html": [
       "<div>\n",
       "<style scoped>\n",
       "    .dataframe tbody tr th:only-of-type {\n",
       "        vertical-align: middle;\n",
       "    }\n",
       "\n",
       "    .dataframe tbody tr th {\n",
       "        vertical-align: top;\n",
       "    }\n",
       "\n",
       "    .dataframe thead th {\n",
       "        text-align: right;\n",
       "    }\n",
       "</style>\n",
       "<table border=\"1\" class=\"dataframe\">\n",
       "  <thead>\n",
       "    <tr style=\"text-align: right;\">\n",
       "      <th></th>\n",
       "      <th>XLE</th>\n",
       "    </tr>\n",
       "    <tr>\n",
       "      <th>datetime</th>\n",
       "      <th></th>\n",
       "    </tr>\n",
       "  </thead>\n",
       "  <tbody>\n",
       "    <tr>\n",
       "      <th>2020-01-02 09:30:30</th>\n",
       "      <td>60.470</td>\n",
       "    </tr>\n",
       "    <tr>\n",
       "      <th>2020-01-02 09:31:00</th>\n",
       "      <td>60.510</td>\n",
       "    </tr>\n",
       "    <tr>\n",
       "      <th>2020-01-02 09:31:30</th>\n",
       "      <td>60.480</td>\n",
       "    </tr>\n",
       "    <tr>\n",
       "      <th>2020-01-02 09:32:00</th>\n",
       "      <td>60.495</td>\n",
       "    </tr>\n",
       "    <tr>\n",
       "      <th>2020-01-02 09:32:30</th>\n",
       "      <td>60.520</td>\n",
       "    </tr>\n",
       "    <tr>\n",
       "      <th>...</th>\n",
       "      <td>...</td>\n",
       "    </tr>\n",
       "    <tr>\n",
       "      <th>2020-01-03 15:58:00</th>\n",
       "      <td>60.385</td>\n",
       "    </tr>\n",
       "    <tr>\n",
       "      <th>2020-01-03 15:58:30</th>\n",
       "      <td>60.395</td>\n",
       "    </tr>\n",
       "    <tr>\n",
       "      <th>2020-01-03 15:59:00</th>\n",
       "      <td>60.405</td>\n",
       "    </tr>\n",
       "    <tr>\n",
       "      <th>2020-01-03 15:59:30</th>\n",
       "      <td>60.420</td>\n",
       "    </tr>\n",
       "    <tr>\n",
       "      <th>2020-01-03 16:00:00</th>\n",
       "      <td>60.370</td>\n",
       "    </tr>\n",
       "  </tbody>\n",
       "</table>\n",
       "<p>3660 rows × 1 columns</p>\n",
       "</div>"
      ],
      "text/plain": [
       "                        XLE\n",
       "datetime                   \n",
       "2020-01-02 09:30:30  60.470\n",
       "2020-01-02 09:31:00  60.510\n",
       "2020-01-02 09:31:30  60.480\n",
       "2020-01-02 09:32:00  60.495\n",
       "2020-01-02 09:32:30  60.520\n",
       "...                     ...\n",
       "2020-01-03 15:58:00  60.385\n",
       "2020-01-03 15:58:30  60.395\n",
       "2020-01-03 15:59:00  60.405\n",
       "2020-01-03 15:59:30  60.420\n",
       "2020-01-03 16:00:00  60.370\n",
       "\n",
       "[3660 rows x 1 columns]"
      ]
     },
     "execution_count": null,
     "metadata": {},
     "output_type": "execute_result"
    }
   ],
   "source": [
    "mids"
   ]
  },
  {
   "cell_type": "code",
   "execution_count": null,
   "metadata": {},
   "outputs": [],
   "source": [
    "# | eval: false\n",
    "# markout_times = markout_returns(ofi_all, markouts=markouts)\n",
    "# mids = [resample_mid(lobster.book, resample_freq=finest_resample).rename(lobster.data.ticker) for lobster in etf_lobsters]\n",
    "# mids = pd.concat(mids, axis=1)\n",
    "# mids"
   ]
  },
  {
   "cell_type": "code",
   "execution_count": null,
   "metadata": {},
   "outputs": [
    {
     "name": "stdout",
     "output_type": "stream",
     "text": [
      "Empty DataFrame\n",
      "Columns: []\n",
      "Index: [2020-01-02 09:35:00, 2020-01-02 09:40:00, 2020-01-02 09:45:00, 2020-01-02 09:50:00, 2020-01-02 09:55:00, 2020-01-02 10:00:00, 2020-01-02 10:05:00, 2020-01-02 10:10:00, 2020-01-02 10:15:00, 2020-01-02 10:20:00, 2020-01-02 10:25:00, 2020-01-02 10:30:00, 2020-01-02 10:35:00, 2020-01-02 10:40:00, 2020-01-02 10:45:00, 2020-01-02 10:50:00, 2020-01-02 10:55:00, 2020-01-02 11:00:00, 2020-01-02 11:05:00, 2020-01-02 11:10:00, 2020-01-02 11:15:00, 2020-01-02 11:20:00, 2020-01-02 11:25:00, 2020-01-02 11:30:00, 2020-01-02 11:35:00, 2020-01-02 11:40:00, 2020-01-02 11:45:00, 2020-01-02 11:50:00, 2020-01-02 11:55:00, 2020-01-02 12:00:00, 2020-01-02 12:05:00, 2020-01-02 12:10:00, 2020-01-02 12:15:00, 2020-01-02 12:20:00, 2020-01-02 12:25:00, 2020-01-02 12:30:00, 2020-01-02 12:35:00, 2020-01-02 12:40:00, 2020-01-02 12:45:00, 2020-01-02 12:50:00, 2020-01-02 12:55:00, 2020-01-02 13:00:00, 2020-01-02 13:05:00, 2020-01-02 13:10:00, 2020-01-02 13:15:00, 2020-01-02 13:20:00, 2020-01-02 13:25:00, 2020-01-02 13:30:00, 2020-01-02 13:35:00, 2020-01-02 13:40:00, 2020-01-02 13:45:00, 2020-01-02 13:50:00, 2020-01-02 13:55:00, 2020-01-02 14:00:00, 2020-01-02 14:05:00, 2020-01-02 14:10:00, 2020-01-02 14:15:00, 2020-01-02 14:20:00, 2020-01-02 14:25:00, 2020-01-02 14:30:00, 2020-01-02 14:35:00, 2020-01-02 14:40:00, 2020-01-02 14:45:00, 2020-01-02 14:50:00, 2020-01-02 14:55:00, 2020-01-02 15:00:00, 2020-01-02 15:05:00, 2020-01-02 15:10:00, 2020-01-02 15:15:00, 2020-01-02 15:20:00, 2020-01-02 15:25:00, 2020-01-02 15:30:00, 2020-01-02 15:35:00, 2020-01-02 15:40:00, 2020-01-02 15:45:00, 2020-01-02 15:50:00, 2020-01-03 00:00:00, 2020-01-03 00:05:00, 2020-01-03 00:10:00, 2020-01-03 00:15:00, 2020-01-03 00:20:00, 2020-01-03 00:25:00, 2020-01-03 00:30:00, 2020-01-03 00:35:00, 2020-01-03 00:40:00, 2020-01-03 00:45:00, 2020-01-03 00:50:00, 2020-01-03 00:55:00, 2020-01-03 01:00:00, 2020-01-03 01:05:00, 2020-01-03 01:10:00, 2020-01-03 01:15:00, 2020-01-03 01:20:00, 2020-01-03 01:25:00, 2020-01-03 01:30:00, 2020-01-03 01:35:00, 2020-01-03 01:40:00, 2020-01-03 01:45:00, 2020-01-03 01:50:00, 2020-01-03 01:55:00, ...]\n",
      "\n",
      "[267 rows x 0 columns]\n"
     ]
    },
    {
     "name": "stderr",
     "output_type": "stream",
     "text": [
      "/tmp/ipykernel_2559457/194619840.py:20: SettingWithCopyWarning: \n",
      "A value is trying to be set on a copy of a slice from a DataFrame\n",
      "\n",
      "See the caveats in the documentation: https://pandas.pydata.org/pandas-docs/stable/user_guide/indexing.html#returning-a-view-versus-a-copy\n",
      "  df_returns.fillna(0, inplace=True)\n"
     ]
    },
    {
     "data": {
      "text/html": [
       "<div>\n",
       "<style scoped>\n",
       "    .dataframe tbody tr th:only-of-type {\n",
       "        vertical-align: middle;\n",
       "    }\n",
       "\n",
       "    .dataframe tbody tr th {\n",
       "        vertical-align: top;\n",
       "    }\n",
       "\n",
       "    .dataframe thead th {\n",
       "        text-align: right;\n",
       "    }\n",
       "</style>\n",
       "<table border=\"1\" class=\"dataframe\">\n",
       "  <thead>\n",
       "    <tr style=\"text-align: right;\">\n",
       "      <th></th>\n",
       "      <th>_30S</th>\n",
       "      <th>_5min</th>\n",
       "      <th>contemp</th>\n",
       "    </tr>\n",
       "    <tr>\n",
       "      <th>datetime</th>\n",
       "      <th></th>\n",
       "      <th></th>\n",
       "      <th></th>\n",
       "    </tr>\n",
       "  </thead>\n",
       "  <tbody>\n",
       "    <tr>\n",
       "      <th>2020-01-02 09:35:00</th>\n",
       "      <td>-0.000910</td>\n",
       "      <td>0.002316</td>\n",
       "      <td>-0.000331</td>\n",
       "    </tr>\n",
       "    <tr>\n",
       "      <th>2020-01-02 09:40:00</th>\n",
       "      <td>0.000660</td>\n",
       "      <td>-0.000743</td>\n",
       "      <td>0.002316</td>\n",
       "    </tr>\n",
       "    <tr>\n",
       "      <th>2020-01-02 09:45:00</th>\n",
       "      <td>-0.000495</td>\n",
       "      <td>-0.001569</td>\n",
       "      <td>-0.000743</td>\n",
       "    </tr>\n",
       "    <tr>\n",
       "      <th>2020-01-02 09:50:00</th>\n",
       "      <td>-0.001241</td>\n",
       "      <td>-0.000414</td>\n",
       "      <td>-0.001569</td>\n",
       "    </tr>\n",
       "    <tr>\n",
       "      <th>2020-01-02 09:55:00</th>\n",
       "      <td>-0.000083</td>\n",
       "      <td>0.001241</td>\n",
       "      <td>-0.000414</td>\n",
       "    </tr>\n",
       "    <tr>\n",
       "      <th>...</th>\n",
       "      <td>...</td>\n",
       "      <td>...</td>\n",
       "      <td>...</td>\n",
       "    </tr>\n",
       "    <tr>\n",
       "      <th>2020-01-03 15:30:00</th>\n",
       "      <td>0.000000</td>\n",
       "      <td>0.000000</td>\n",
       "      <td>-0.000414</td>\n",
       "    </tr>\n",
       "    <tr>\n",
       "      <th>2020-01-03 15:35:00</th>\n",
       "      <td>-0.000166</td>\n",
       "      <td>-0.000829</td>\n",
       "      <td>-0.000166</td>\n",
       "    </tr>\n",
       "    <tr>\n",
       "      <th>2020-01-03 15:40:00</th>\n",
       "      <td>0.000166</td>\n",
       "      <td>0.001577</td>\n",
       "      <td>-0.000829</td>\n",
       "    </tr>\n",
       "    <tr>\n",
       "      <th>2020-01-03 15:45:00</th>\n",
       "      <td>-0.000083</td>\n",
       "      <td>0.000000</td>\n",
       "      <td>0.001577</td>\n",
       "    </tr>\n",
       "    <tr>\n",
       "      <th>2020-01-03 15:50:00</th>\n",
       "      <td>0.000000</td>\n",
       "      <td>0.000000</td>\n",
       "      <td>0.000414</td>\n",
       "    </tr>\n",
       "  </tbody>\n",
       "</table>\n",
       "<p>267 rows × 3 columns</p>\n",
       "</div>"
      ],
      "text/plain": [
       "                         _30S     _5min   contemp\n",
       "datetime                                         \n",
       "2020-01-02 09:35:00 -0.000910  0.002316 -0.000331\n",
       "2020-01-02 09:40:00  0.000660 -0.000743  0.002316\n",
       "2020-01-02 09:45:00 -0.000495 -0.001569 -0.000743\n",
       "2020-01-02 09:50:00 -0.001241 -0.000414 -0.001569\n",
       "2020-01-02 09:55:00 -0.000083  0.001241 -0.000414\n",
       "...                       ...       ...       ...\n",
       "2020-01-03 15:30:00  0.000000  0.000000 -0.000414\n",
       "2020-01-03 15:35:00 -0.000166 -0.000829 -0.000166\n",
       "2020-01-03 15:40:00  0.000166  0.001577 -0.000829\n",
       "2020-01-03 15:45:00 -0.000083  0.000000  0.001577\n",
       "2020-01-03 15:50:00  0.000000  0.000000  0.000414\n",
       "\n",
       "[267 rows x 3 columns]"
      ]
     },
     "execution_count": null,
     "metadata": {},
     "output_type": "execute_result"
    }
   ],
   "source": [
    "# | eval: false\n",
    "def compute_returns():\n",
    "    index = clip_for_markout(etf_executions.resample(resample_freq, label=\"right\").last(), max_markout=max_markout).index\n",
    "\n",
    "    returns = {}\n",
    "    for ticker in etfs:\n",
    "        df = pd.DataFrame(index=index)\n",
    "        print(df)\n",
    "        for markout in [\"0S\"] + markouts:\n",
    "            df[f\"_{markout}\"] = mids.loc[df.index + pd.Timedelta(markout), ticker].values\n",
    "\n",
    "        for markout in markouts:\n",
    "            df.eval(f\"return_{markout} = (_{markout} / _0S ) - 1\", inplace=True)\n",
    "\n",
    "        df[\"return_contemp\"] = mids[ticker].resample(\"5T\").first().pct_change()\n",
    "        df_returns = df.filter(regex=\"return\")\n",
    "        df_returns.columns = [column.replace(\"return_\", \"\") for column in df_returns.columns]\n",
    "        df_returns.columns = [(\"_\" + column if column[0].isdigit() else column) for column in df_returns.columns ]\n",
    "        # new addition\n",
    "        df_returns.fillna(0, inplace=True)\n",
    "        returns[ticker] = df_returns\n",
    "    return returns\n",
    "\n",
    "returns = compute_returns()\n",
    "returns[etfs[0]]"
   ]
  },
  {
   "cell_type": "code",
   "execution_count": null,
   "metadata": {},
   "outputs": [
    {
     "data": {
      "text/html": [
       "<div>\n",
       "<style scoped>\n",
       "    .dataframe tbody tr th:only-of-type {\n",
       "        vertical-align: middle;\n",
       "    }\n",
       "\n",
       "    .dataframe tbody tr th {\n",
       "        vertical-align: top;\n",
       "    }\n",
       "\n",
       "    .dataframe thead th {\n",
       "        text-align: right;\n",
       "    }\n",
       "</style>\n",
       "<table border=\"1\" class=\"dataframe\">\n",
       "  <thead>\n",
       "    <tr style=\"text-align: right;\">\n",
       "      <th></th>\n",
       "      <th>_30S</th>\n",
       "      <th>_5min</th>\n",
       "      <th>contemp</th>\n",
       "    </tr>\n",
       "    <tr>\n",
       "      <th>datetime</th>\n",
       "      <th></th>\n",
       "      <th></th>\n",
       "      <th></th>\n",
       "    </tr>\n",
       "  </thead>\n",
       "  <tbody>\n",
       "    <tr>\n",
       "      <th>2020-01-02 12:35:00</th>\n",
       "      <td>-0.000413</td>\n",
       "      <td>0.000000</td>\n",
       "      <td>0.000744</td>\n",
       "    </tr>\n",
       "    <tr>\n",
       "      <th>2020-01-02 10:15:00</th>\n",
       "      <td>-0.000828</td>\n",
       "      <td>-0.000166</td>\n",
       "      <td>-0.002148</td>\n",
       "    </tr>\n",
       "    <tr>\n",
       "      <th>2020-01-03 06:15:00</th>\n",
       "      <td>0.000000</td>\n",
       "      <td>0.000000</td>\n",
       "      <td>0.000000</td>\n",
       "    </tr>\n",
       "    <tr>\n",
       "      <th>2020-01-03 02:35:00</th>\n",
       "      <td>0.000000</td>\n",
       "      <td>0.000000</td>\n",
       "      <td>0.000000</td>\n",
       "    </tr>\n",
       "    <tr>\n",
       "      <th>2020-01-03 08:45:00</th>\n",
       "      <td>0.000000</td>\n",
       "      <td>0.000000</td>\n",
       "      <td>0.000000</td>\n",
       "    </tr>\n",
       "    <tr>\n",
       "      <th>2020-01-03 09:10:00</th>\n",
       "      <td>0.000000</td>\n",
       "      <td>0.000000</td>\n",
       "      <td>0.000000</td>\n",
       "    </tr>\n",
       "    <tr>\n",
       "      <th>2020-01-03 00:05:00</th>\n",
       "      <td>0.000000</td>\n",
       "      <td>0.000000</td>\n",
       "      <td>0.000000</td>\n",
       "    </tr>\n",
       "    <tr>\n",
       "      <th>2020-01-02 14:25:00</th>\n",
       "      <td>0.000000</td>\n",
       "      <td>-0.000166</td>\n",
       "      <td>0.000663</td>\n",
       "    </tr>\n",
       "    <tr>\n",
       "      <th>2020-01-03 10:05:00</th>\n",
       "      <td>0.000165</td>\n",
       "      <td>0.000165</td>\n",
       "      <td>-0.001565</td>\n",
       "    </tr>\n",
       "    <tr>\n",
       "      <th>2020-01-02 10:30:00</th>\n",
       "      <td>-0.000166</td>\n",
       "      <td>-0.000166</td>\n",
       "      <td>0.000083</td>\n",
       "    </tr>\n",
       "  </tbody>\n",
       "</table>\n",
       "</div>"
      ],
      "text/plain": [
       "                         _30S     _5min   contemp\n",
       "datetime                                         \n",
       "2020-01-02 12:35:00 -0.000413  0.000000  0.000744\n",
       "2020-01-02 10:15:00 -0.000828 -0.000166 -0.002148\n",
       "2020-01-03 06:15:00  0.000000  0.000000  0.000000\n",
       "2020-01-03 02:35:00  0.000000  0.000000  0.000000\n",
       "2020-01-03 08:45:00  0.000000  0.000000  0.000000\n",
       "2020-01-03 09:10:00  0.000000  0.000000  0.000000\n",
       "2020-01-03 00:05:00  0.000000  0.000000  0.000000\n",
       "2020-01-02 14:25:00  0.000000 -0.000166  0.000663\n",
       "2020-01-03 10:05:00  0.000165  0.000165 -0.001565\n",
       "2020-01-02 10:30:00 -0.000166 -0.000166  0.000083"
      ]
     },
     "execution_count": null,
     "metadata": {},
     "output_type": "execute_result"
    }
   ],
   "source": [
    "returns[etfs[0]].sample(10)"
   ]
  },
  {
   "cell_type": "code",
   "execution_count": null,
   "metadata": {},
   "outputs": [
    {
     "data": {
      "text/html": [
       "<div>\n",
       "<style scoped>\n",
       "    .dataframe tbody tr th:only-of-type {\n",
       "        vertical-align: middle;\n",
       "    }\n",
       "\n",
       "    .dataframe tbody tr th {\n",
       "        vertical-align: top;\n",
       "    }\n",
       "\n",
       "    .dataframe thead th {\n",
       "        text-align: right;\n",
       "    }\n",
       "</style>\n",
       "<table border=\"1\" class=\"dataframe\">\n",
       "  <thead>\n",
       "    <tr style=\"text-align: right;\">\n",
       "      <th></th>\n",
       "      <th>intercept</th>\n",
       "      <th>coefficient</th>\n",
       "      <th>r2</th>\n",
       "    </tr>\n",
       "    <tr>\n",
       "      <th>id</th>\n",
       "      <th></th>\n",
       "      <th></th>\n",
       "      <th></th>\n",
       "    </tr>\n",
       "  </thead>\n",
       "  <tbody>\n",
       "    <tr>\n",
       "      <th>_XLE_5T_ofi_all__30S</th>\n",
       "      <td>0.0</td>\n",
       "      <td>0.000028</td>\n",
       "      <td>-0.003711</td>\n",
       "    </tr>\n",
       "    <tr>\n",
       "      <th>_XLE_5T_ofi_all__5min</th>\n",
       "      <td>0.0</td>\n",
       "      <td>-0.000190</td>\n",
       "      <td>0.001128</td>\n",
       "    </tr>\n",
       "    <tr>\n",
       "      <th>_XLE_5T_ofi_all_contemp</th>\n",
       "      <td>0.0</td>\n",
       "      <td>-0.000572</td>\n",
       "      <td>0.024527</td>\n",
       "    </tr>\n",
       "  </tbody>\n",
       "</table>\n",
       "</div>"
      ],
      "text/plain": [
       "                         intercept  coefficient        r2\n",
       "id                                                       \n",
       "_XLE_5T_ofi_all__30S           0.0     0.000028 -0.003711\n",
       "_XLE_5T_ofi_all__5min          0.0    -0.000190  0.001128\n",
       "_XLE_5T_ofi_all_contemp        0.0    -0.000572  0.024527"
      ]
     },
     "execution_count": null,
     "metadata": {},
     "output_type": "execute_result"
    }
   ],
   "source": [
    "# | eval: false\n",
    "def regression_table(\n",
    "    X: pd.DataFrame,  # covariates. in this case, OFI for a single ETF\n",
    "    y: pd.DataFrame,  # response variable. in this case, mid to mid returns at various markouts\n",
    "):\n",
    "    \"\"\"Compute X.len * y.len univariate regressions. For each column in X, regress against each one column of y.\"\"\"\n",
    "    X, y = restrict_common_index(X, y)\n",
    "    \n",
    "    regression_results = []\n",
    "\n",
    "    for x_col_name, y_col_name in product(X.columns, y.columns):\n",
    "        x_col = X[x_col_name].values.reshape(-1, 1)\n",
    "        y_col = y[y_col_name].values\n",
    "        \n",
    "        model = LinearRegression(fit_intercept=False)\n",
    "        model.fit(x_col, y_col)\n",
    "\n",
    "        intercept = model.intercept_\n",
    "        coefficient = model.coef_[0]\n",
    "        r2 = model.score(x_col, y_col)\n",
    "\n",
    "        regression_results.append(\n",
    "            {\n",
    "                \"id\": x_col_name + \"_\" + y_col_name,\n",
    "                \"intercept\": intercept,\n",
    "                \"coefficient\": coefficient,\n",
    "                \"r2\": r2,\n",
    "            }\n",
    "        )\n",
    "        \n",
    "    regression_results_df = pd.DataFrame(regression_results)\n",
    "    regression_results_df.set_index(\"id\", inplace=True)\n",
    "    return regression_results_df\n",
    "\n",
    "regression_table(ofi_all, returns[etfs[0]])"
   ]
  },
  {
   "cell_type": "code",
   "execution_count": null,
   "metadata": {},
   "outputs": [],
   "source": [
    "# | eval: false\n",
    "drop_all_neighbor_cols(etf_executions)"
   ]
  },
  {
   "cell_type": "code",
   "execution_count": null,
   "metadata": {},
   "outputs": [
    {
     "data": {
      "text/html": [
       "<div>\n",
       "<style scoped>\n",
       "    .dataframe tbody tr th:only-of-type {\n",
       "        vertical-align: middle;\n",
       "    }\n",
       "\n",
       "    .dataframe tbody tr th {\n",
       "        vertical-align: top;\n",
       "    }\n",
       "\n",
       "    .dataframe thead th {\n",
       "        text-align: right;\n",
       "    }\n",
       "</style>\n",
       "<table border=\"1\" class=\"dataframe\">\n",
       "  <thead>\n",
       "    <tr style=\"text-align: right;\">\n",
       "      <th></th>\n",
       "      <th>event</th>\n",
       "      <th>order_id</th>\n",
       "      <th>size</th>\n",
       "      <th>price</th>\n",
       "      <th>direction</th>\n",
       "      <th>ask_price_1</th>\n",
       "      <th>bid_price_1</th>\n",
       "      <th>ticker</th>\n",
       "      <th>_500us_neighbors</th>\n",
       "      <th>_1ms_neighbors</th>\n",
       "    </tr>\n",
       "    <tr>\n",
       "      <th>datetime</th>\n",
       "      <th></th>\n",
       "      <th></th>\n",
       "      <th></th>\n",
       "      <th></th>\n",
       "      <th></th>\n",
       "      <th></th>\n",
       "      <th></th>\n",
       "      <th></th>\n",
       "      <th></th>\n",
       "      <th></th>\n",
       "    </tr>\n",
       "  </thead>\n",
       "  <tbody>\n",
       "    <tr>\n",
       "      <th>2020-01-02 09:30:00.297326855</th>\n",
       "      <td>4</td>\n",
       "      <td>11135096</td>\n",
       "      <td>100</td>\n",
       "      <td>60.41</td>\n",
       "      <td>1</td>\n",
       "      <td>60.42</td>\n",
       "      <td>60.31</td>\n",
       "      <td>XLE</td>\n",
       "      <td>None</td>\n",
       "      <td>None</td>\n",
       "    </tr>\n",
       "    <tr>\n",
       "      <th>2020-01-02 09:30:00.303568518</th>\n",
       "      <td>4</td>\n",
       "      <td>11135436</td>\n",
       "      <td>100</td>\n",
       "      <td>60.40</td>\n",
       "      <td>1</td>\n",
       "      <td>60.42</td>\n",
       "      <td>60.40</td>\n",
       "      <td>XLE</td>\n",
       "      <td>None</td>\n",
       "      <td>None</td>\n",
       "    </tr>\n",
       "    <tr>\n",
       "      <th>2020-01-02 09:30:00.328454961</th>\n",
       "      <td>4</td>\n",
       "      <td>11136156</td>\n",
       "      <td>100</td>\n",
       "      <td>60.40</td>\n",
       "      <td>1</td>\n",
       "      <td>60.42</td>\n",
       "      <td>60.31</td>\n",
       "      <td>XLE</td>\n",
       "      <td>None</td>\n",
       "      <td>None</td>\n",
       "    </tr>\n",
       "    <tr>\n",
       "      <th>2020-01-02 09:30:00.924281400</th>\n",
       "      <td>6</td>\n",
       "      <td>4294967295</td>\n",
       "      <td>0</td>\n",
       "      <td>0.00</td>\n",
       "      <td>-1</td>\n",
       "      <td>60.50</td>\n",
       "      <td>60.39</td>\n",
       "      <td>XLE</td>\n",
       "      <td>None</td>\n",
       "      <td>None</td>\n",
       "    </tr>\n",
       "    <tr>\n",
       "      <th>2020-01-02 09:30:02.188190056</th>\n",
       "      <td>4</td>\n",
       "      <td>11518072</td>\n",
       "      <td>4</td>\n",
       "      <td>60.42</td>\n",
       "      <td>1</td>\n",
       "      <td>60.46</td>\n",
       "      <td>60.42</td>\n",
       "      <td>XLE</td>\n",
       "      <td>None</td>\n",
       "      <td>None</td>\n",
       "    </tr>\n",
       "    <tr>\n",
       "      <th>...</th>\n",
       "      <td>...</td>\n",
       "      <td>...</td>\n",
       "      <td>...</td>\n",
       "      <td>...</td>\n",
       "      <td>...</td>\n",
       "      <td>...</td>\n",
       "      <td>...</td>\n",
       "      <td>...</td>\n",
       "      <td>...</td>\n",
       "      <td>...</td>\n",
       "    </tr>\n",
       "    <tr>\n",
       "      <th>2020-01-03 15:59:59.061055467</th>\n",
       "      <td>4</td>\n",
       "      <td>367456440</td>\n",
       "      <td>48</td>\n",
       "      <td>60.38</td>\n",
       "      <td>-1</td>\n",
       "      <td>60.38</td>\n",
       "      <td>60.37</td>\n",
       "      <td>XLE</td>\n",
       "      <td>None</td>\n",
       "      <td>None</td>\n",
       "    </tr>\n",
       "    <tr>\n",
       "      <th>2020-01-03 15:59:59.539892103</th>\n",
       "      <td>4</td>\n",
       "      <td>367462516</td>\n",
       "      <td>400</td>\n",
       "      <td>60.37</td>\n",
       "      <td>1</td>\n",
       "      <td>60.38</td>\n",
       "      <td>60.37</td>\n",
       "      <td>XLE</td>\n",
       "      <td>None</td>\n",
       "      <td>None</td>\n",
       "    </tr>\n",
       "    <tr>\n",
       "      <th>2020-01-03 15:59:59.539892103</th>\n",
       "      <td>4</td>\n",
       "      <td>367462520</td>\n",
       "      <td>700</td>\n",
       "      <td>60.37</td>\n",
       "      <td>1</td>\n",
       "      <td>60.38</td>\n",
       "      <td>60.36</td>\n",
       "      <td>XLE</td>\n",
       "      <td>None</td>\n",
       "      <td>None</td>\n",
       "    </tr>\n",
       "    <tr>\n",
       "      <th>2020-01-03 15:59:59.739414586</th>\n",
       "      <td>4</td>\n",
       "      <td>367527532</td>\n",
       "      <td>400</td>\n",
       "      <td>60.37</td>\n",
       "      <td>-1</td>\n",
       "      <td>60.38</td>\n",
       "      <td>60.36</td>\n",
       "      <td>XLE</td>\n",
       "      <td>None</td>\n",
       "      <td>None</td>\n",
       "    </tr>\n",
       "    <tr>\n",
       "      <th>2020-01-03 15:59:59.741570795</th>\n",
       "      <td>4</td>\n",
       "      <td>367557528</td>\n",
       "      <td>200</td>\n",
       "      <td>60.37</td>\n",
       "      <td>1</td>\n",
       "      <td>60.38</td>\n",
       "      <td>60.36</td>\n",
       "      <td>XLE</td>\n",
       "      <td>None</td>\n",
       "      <td>None</td>\n",
       "    </tr>\n",
       "  </tbody>\n",
       "</table>\n",
       "<p>23151 rows × 10 columns</p>\n",
       "</div>"
      ],
      "text/plain": [
       "                               event    order_id  size  price  direction  \\\n",
       "datetime                                                                   \n",
       "2020-01-02 09:30:00.297326855      4    11135096   100  60.41          1   \n",
       "2020-01-02 09:30:00.303568518      4    11135436   100  60.40          1   \n",
       "2020-01-02 09:30:00.328454961      4    11136156   100  60.40          1   \n",
       "2020-01-02 09:30:00.924281400      6  4294967295     0   0.00         -1   \n",
       "2020-01-02 09:30:02.188190056      4    11518072     4  60.42          1   \n",
       "...                              ...         ...   ...    ...        ...   \n",
       "2020-01-03 15:59:59.061055467      4   367456440    48  60.38         -1   \n",
       "2020-01-03 15:59:59.539892103      4   367462516   400  60.37          1   \n",
       "2020-01-03 15:59:59.539892103      4   367462520   700  60.37          1   \n",
       "2020-01-03 15:59:59.739414586      4   367527532   400  60.37         -1   \n",
       "2020-01-03 15:59:59.741570795      4   367557528   200  60.37          1   \n",
       "\n",
       "                               ask_price_1  bid_price_1 ticker  \\\n",
       "datetime                                                         \n",
       "2020-01-02 09:30:00.297326855        60.42        60.31    XLE   \n",
       "2020-01-02 09:30:00.303568518        60.42        60.40    XLE   \n",
       "2020-01-02 09:30:00.328454961        60.42        60.31    XLE   \n",
       "2020-01-02 09:30:00.924281400        60.50        60.39    XLE   \n",
       "2020-01-02 09:30:02.188190056        60.46        60.42    XLE   \n",
       "...                                    ...          ...    ...   \n",
       "2020-01-03 15:59:59.061055467        60.38        60.37    XLE   \n",
       "2020-01-03 15:59:59.539892103        60.38        60.37    XLE   \n",
       "2020-01-03 15:59:59.539892103        60.38        60.36    XLE   \n",
       "2020-01-03 15:59:59.739414586        60.38        60.36    XLE   \n",
       "2020-01-03 15:59:59.741570795        60.38        60.36    XLE   \n",
       "\n",
       "                              _500us_neighbors _1ms_neighbors  \n",
       "datetime                                                       \n",
       "2020-01-02 09:30:00.297326855             None           None  \n",
       "2020-01-02 09:30:00.303568518             None           None  \n",
       "2020-01-02 09:30:00.328454961             None           None  \n",
       "2020-01-02 09:30:00.924281400             None           None  \n",
       "2020-01-02 09:30:02.188190056             None           None  \n",
       "...                                        ...            ...  \n",
       "2020-01-03 15:59:59.061055467             None           None  \n",
       "2020-01-03 15:59:59.539892103             None           None  \n",
       "2020-01-03 15:59:59.539892103             None           None  \n",
       "2020-01-03 15:59:59.739414586             None           None  \n",
       "2020-01-03 15:59:59.741570795             None           None  \n",
       "\n",
       "[23151 rows x 10 columns]"
      ]
     },
     "execution_count": null,
     "metadata": {},
     "output_type": "execute_result"
    }
   ],
   "source": [
    "# | eval: false\n",
    "etf_executions_neighbors = add_neighbors(etf_executions=etf_executions, equity_executions=equity_executions, tolerance=tolerances)\n",
    "etf_executions_neighbors"
   ]
  },
  {
   "cell_type": "code",
   "execution_count": null,
   "metadata": {},
   "outputs": [
    {
     "data": {
      "text/html": [
       "<div>\n",
       "<style scoped>\n",
       "    .dataframe tbody tr th:only-of-type {\n",
       "        vertical-align: middle;\n",
       "    }\n",
       "\n",
       "    .dataframe tbody tr th {\n",
       "        vertical-align: top;\n",
       "    }\n",
       "\n",
       "    .dataframe thead th {\n",
       "        text-align: right;\n",
       "    }\n",
       "</style>\n",
       "<table border=\"1\" class=\"dataframe\">\n",
       "  <thead>\n",
       "    <tr style=\"text-align: right;\">\n",
       "      <th></th>\n",
       "      <th>has_neighbor</th>\n",
       "    </tr>\n",
       "  </thead>\n",
       "  <tbody>\n",
       "    <tr>\n",
       "      <th>_500us_neighbors</th>\n",
       "      <td>0.316315</td>\n",
       "    </tr>\n",
       "    <tr>\n",
       "      <th>_1ms_neighbors</th>\n",
       "      <td>0.420500</td>\n",
       "    </tr>\n",
       "  </tbody>\n",
       "</table>\n",
       "</div>"
      ],
      "text/plain": [
       "                  has_neighbor\n",
       "_500us_neighbors      0.316315\n",
       "_1ms_neighbors        0.420500"
      ]
     },
     "execution_count": null,
     "metadata": {},
     "output_type": "execute_result"
    }
   ],
   "source": [
    "# | eval: false\n",
    "def compute_neighbor_statistics(etf_executions_neighbors: pd.DataFrame):\n",
    "    neighbor_statistics = etf_executions_neighbors.filter(regex=\"^_\").notna().sum() / len(etf_executions_neighbors)\n",
    "    return neighbor_statistics\n",
    "\n",
    "neighbor_statistics = compute_neighbor_statistics(etf_executions_neighbors)\n",
    "# pd.DataFrame({'has_neighbor':neighbor_statistics}).style.format(\"{:.2%}\")\n",
    "pd.DataFrame({'has_neighbor':neighbor_statistics})"
   ]
  },
  {
   "cell_type": "code",
   "execution_count": null,
   "metadata": {},
   "outputs": [],
   "source": [
    "# | eval: false\n",
    "etf_executions_features = append_features(etf_executions=etf_executions_neighbors, equity_executions=equity_executions)"
   ]
  },
  {
   "cell_type": "code",
   "execution_count": null,
   "metadata": {},
   "outputs": [],
   "source": [
    "# | eval: false\n",
    "etf_executions_features[\"_500us_num_trades\"] = etf_executions_features._500us_num_trades_os_af + etf_executions_features._500us_num_trades_os_bf + etf_executions_features._500us_num_trades_ss_af + etf_executions_features._500us_num_trades_ss_bf"
   ]
  },
  {
   "cell_type": "code",
   "execution_count": null,
   "metadata": {},
   "outputs": [
    {
     "data": {
      "text/plain": [
       "<Axes: >"
      ]
     },
     "execution_count": null,
     "metadata": {},
     "output_type": "execute_result"
    },
    {
     "data": {
      "image/png": "[encoded data removed]",
      "text/plain": [
       "<Figure size 640x480 with 1 Axes>"
      ]
     },
     "metadata": {},
     "output_type": "display_data"
    }
   ],
   "source": [
    "# | eval: false\n",
    "etf_executions_features._500us_num_trades.hist()"
   ]
  },
  {
   "cell_type": "code",
   "execution_count": null,
   "metadata": {},
   "outputs": [
    {
     "name": "stderr",
     "output_type": "stream",
     "text": [
      "/tmp/ipykernel_2559457/800417815.py:1: FutureWarning: In a future version, passing a SparseArray to pd.Index will store that array directly instead of converting to a dense numpy ndarray. To retain the old behavior, use pd.Index(arr.to_numpy()) instead\n",
      "  val_counts = etf_executions_features.value_counts(subset=\"_500us_num_trades\")\n"
     ]
    },
    {
     "data": {
      "text/plain": [
       "[0, 1, 2, 3, 4, 5, 6, 7]"
      ]
     },
     "execution_count": null,
     "metadata": {},
     "output_type": "execute_result"
    }
   ],
   "source": [
    "# | eval: false\n",
    "val_counts = etf_executions_features.value_counts(subset=\"_500us_num_trades\")\n",
    "val_counts.where(val_counts > 100).dropna().index.values.tolist()"
   ]
  },
  {
   "cell_type": "code",
   "execution_count": null,
   "metadata": {},
   "outputs": [
    {
     "name": "stdout",
     "output_type": "stream",
     "text": [
      "60.37\n"
     ]
    }
   ],
   "source": [
    "# | eval: false\n",
    "ENOUGH_DATA = 7\n",
    "etf_executions_features.query(f\"_500us_num_trades <= {ENOUGH_DATA}\")\n",
    "\n",
    "CLOSE_PRICE = ( etf_executions_features.query(\"direction == 1\").iloc[-1].price + etf_executions_features.query(\"direction == -1\").iloc[-1].price ) / 2\n",
    "print(CLOSE_PRICE)"
   ]
  },
  {
   "cell_type": "code",
   "execution_count": null,
   "metadata": {},
   "outputs": [],
   "source": [
    "# | eval: false\n",
    "etf_executions_features_no_auc = etf_executions_features[etf_executions_features.event.isin([4,5])]\n",
    "etf_executions_features_no_auc = etf_executions_features_no_auc.query(f\"_500us_num_trades <= {ENOUGH_DATA}\").assign(pnl_to_close = lambda df_: ( CLOSE_PRICE - df_.price ) / df_.price * 1e4 * df_.direction)\n"
   ]
  },
  {
   "cell_type": "code",
   "execution_count": null,
   "metadata": {},
   "outputs": [
    {
     "name": "stderr",
     "output_type": "stream",
     "text": [
      "/tmp/ipykernel_2559457/2295202992.py:2: FutureWarning: In a future version, passing a SparseArray to pd.Index will store that array directly instead of converting to a dense numpy ndarray. To retain the old behavior, use pd.Index(arr.to_numpy()) instead\n",
      "  summary_statistics = etf_executions_features_no_auc.groupby(by=\"_500us_num_trades\").agg(ppt_mean=(\"pnl_to_close\",\"mean\"),ppt_std=(\"pnl_to_close\",\"std\"), hit_raio=(\"hit_ratio\",\"mean\"))\n"
     ]
    }
   ],
   "source": [
    "# | eval: false\n",
    "etf_executions_features_no_auc = etf_executions_features_no_auc.assign(hit_ratio = lambda df_: ((df_.pnl_to_close) > 0 ))\n",
    "summary_statistics = etf_executions_features_no_auc.groupby(by=\"_500us_num_trades\").agg(ppt_mean=(\"pnl_to_close\",\"mean\"),ppt_std=(\"pnl_to_close\",\"std\"), hit_raio=(\"hit_ratio\",\"mean\"))"
   ]
  },
  {
   "cell_type": "code",
   "execution_count": null,
   "metadata": {},
   "outputs": [
    {
     "data": {
      "image/png": "[encoded data removed]",
      "text/plain": [
       "<Figure size 640x480 with 1 Axes>"
      ]
     },
     "metadata": {},
     "output_type": "display_data"
    },
    {
     "data": {
      "image/png": "[encoded data removed]",
      "text/plain": [
       "<Figure size 640x480 with 1 Axes>"
      ]
     },
     "metadata": {},
     "output_type": "display_data"
    },
    {
     "data": {
      "image/png": "[encoded data removed]",
      "text/plain": [
       "<Figure size 640x480 with 1 Axes>"
      ]
     },
     "metadata": {},
     "output_type": "display_data"
    }
   ],
   "source": [
    "# | eval: false\n",
    "import matplotlib.pyplot as plt\n",
    "for col in summary_statistics:\n",
    "    summary_statistics[col].plot(title=col, kind=\"bar\")\n",
    "    plt.show()"
   ]
  },
  {
   "cell_type": "markdown",
   "metadata": {},
   "source": [
    "### Multi-day"
   ]
  },
  {
   "cell_type": "code",
   "execution_count": null,
   "metadata": {},
   "outputs": [],
   "source": [
    "# | eval: false\n",
    "df = etf_executions_features_no_auc"
   ]
  },
  {
   "cell_type": "code",
   "execution_count": null,
   "metadata": {},
   "outputs": [],
   "source": [
    "# | eval: false\n",
    "closing_prices = df.resample('D').transform('last').price"
   ]
  },
  {
   "cell_type": "code",
   "execution_count": null,
   "metadata": {},
   "outputs": [],
   "source": [
    "# | eval: false\n",
    "df[\"closing_price\"] = closing_prices"
   ]
  },
  {
   "cell_type": "code",
   "execution_count": null,
   "metadata": {},
   "outputs": [],
   "source": [
    "# | eval: false\n",
    "df.eval(\"pnl_to_close = (closing_price - price) * 1e4 * direction\", inplace=True)\n",
    "df.eval(\"hit_ratio = (pnl_to_close > 0)\", inplace=True)"
   ]
  },
  {
   "cell_type": "code",
   "execution_count": null,
   "metadata": {},
   "outputs": [
    {
     "name": "stderr",
     "output_type": "stream",
     "text": [
      "/tmp/ipykernel_2559457/3805906952.py:1: FutureWarning: In a future version, passing a SparseArray to pd.Index will store that array directly instead of converting to a dense numpy ndarray. To retain the old behavior, use pd.Index(arr.to_numpy()) instead\n",
      "  summary_statistics = df.groupby(by=\"_500us_num_trades\").agg(ppt_mean=(\"pnl_to_close\",\"mean\"),ppt_std=(\"pnl_to_close\",\"std\"), hit_ratio=(\"hit_ratio\",\"mean\"))\n"
     ]
    }
   ],
   "source": [
    "# | eval: false\n",
    "summary_statistics = df.groupby(by=\"_500us_num_trades\").agg(ppt_mean=(\"pnl_to_close\",\"mean\"),ppt_std=(\"pnl_to_close\",\"std\"), hit_ratio=(\"hit_ratio\",\"mean\"))"
   ]
  },
  {
   "cell_type": "code",
   "execution_count": null,
   "metadata": {},
   "outputs": [
    {
     "data": {
      "image/png": "[encoded data removed]",
      "text/plain": [
       "<Figure size 640x480 with 1 Axes>"
      ]
     },
     "metadata": {},
     "output_type": "display_data"
    },
    {
     "data": {
      "image/png": "[encoded data removed]",
      "text/plain": [
       "<Figure size 640x480 with 1 Axes>"
      ]
     },
     "metadata": {},
     "output_type": "display_data"
    },
    {
     "data": {
      "image/png": "[encoded data removed]",
      "text/plain": [
       "<Figure size 640x480 with 1 Axes>"
      ]
     },
     "metadata": {},
     "output_type": "display_data"
    }
   ],
   "source": [
    "# | eval: false\n",
    "import matplotlib.pyplot as plt\n",
    "for col in summary_statistics:\n",
    "    summary_statistics[col].plot(title=col, kind=\"bar\")\n",
    "    plt.show()"
   ]
  },
  {
   "cell_type": "code",
   "execution_count": null,
   "metadata": {},
   "outputs": [],
   "source": [
    "# | eval: false\n",
    "%store etf_executions_neighbors\n",
    "%store etf_executions_features"
   ]
  },
  {
   "cell_type": "code",
   "execution_count": null,
   "metadata": {},
   "outputs": [],
   "source": [
    "# etf_executions_features = marginalise(etf_executions_features, over='same_sign/opposite_sign')"
   ]
  },
  {
   "cell_type": "code",
   "execution_count": null,
   "metadata": {},
   "outputs": [],
   "source": [
    "# etf_executions_features.columns"
   ]
  },
  {
   "cell_type": "code",
   "execution_count": null,
   "metadata": {},
   "outputs": [],
   "source": [
    "# etf_executions_features[\"_500us_num_trades\"] = etf_executions_features._500us_num_trades_os_af + etf_executions_features._500us_num_trades_os_bf + etf_executions_features._500us_num_trades_ss_af + etf_executions_features._500us_num_trades_ss_bf"
   ]
  },
  {
   "cell_type": "code",
   "execution_count": null,
   "metadata": {},
   "outputs": [],
   "source": [
    "# etf_execution_features.filter(regex=\"^_\").hist()"
   ]
  },
  {
   "cell_type": "code",
   "execution_count": null,
   "metadata": {},
   "outputs": [],
   "source": [
    "# easy way without query builder\n",
    "# date_range = [datetime.date(year=2020, month=1, day=2), datetime.date(year=2020, month=1, day=3)]\n",
    "# df = library.read(ticker, date_range=date_range).data"
   ]
  },
  {
   "cell_type": "code",
   "execution_count": null,
   "metadata": {},
   "outputs": [],
   "source": [
    "# | hide\n",
    "import nbdev\n",
    "\n",
    "nbdev.nbdev_export()"
   ]
  }
 ],
 "metadata": {
  "kernelspec": {
   "display_name": "python3",
   "language": "python",
   "name": "python3"
  }
 },
 "nbformat": 4,
 "nbformat_minor": 4
}
