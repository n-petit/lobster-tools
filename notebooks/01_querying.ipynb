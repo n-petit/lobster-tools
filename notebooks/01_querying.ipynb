{
 "cells": [
  {
   "attachments": {},
   "cell_type": "markdown",
   "metadata": {},
   "source": [
    "# Querying data 🤔\n",
    "\n",
    "> This module consists of functions which are thin wrappers around pandas `query` calls."
   ]
  },
  {
   "cell_type": "code",
   "execution_count": null,
   "metadata": {},
   "outputs": [],
   "source": [
    "%load_ext autoreload\n",
    "%autoreload 2"
   ]
  },
  {
   "cell_type": "code",
   "execution_count": null,
   "metadata": {},
   "outputs": [],
   "source": [
    "# | default_exp querying"
   ]
  },
  {
   "cell_type": "code",
   "execution_count": null,
   "metadata": {},
   "outputs": [],
   "source": [
    "# | hide\n",
    "from nbdev.showdoc import *\n",
    "from pprint import pprint"
   ]
  },
  {
   "cell_type": "code",
   "execution_count": null,
   "metadata": {},
   "outputs": [],
   "source": [
    "# | export\n",
    "\n",
    "from lobster_tools.preprocessing import *\n",
    "import pandas as pd\n",
    "from functools import partial\n",
    "import datetime"
   ]
  },
  {
   "cell_type": "code",
   "execution_count": null,
   "metadata": {},
   "outputs": [],
   "source": [
    "# | export\n",
    "\n",
    "\n",
    "def query_by_direction(\n",
    "    df: pd.DataFrame,  # messages dataframe\n",
    "    direction: str | Direction,  # direction, either \"buy\" or \"sell\"\n",
    ") -> pd.DataFrame:\n",
    "    \"\"\"Query a messages dataframe on the direction column.\"\"\"\n",
    "    if isinstance(direction, Direction):\n",
    "        direction = direction.value\n",
    "    elif isinstance(direction, str):\n",
    "        direction = direction.lower()\n",
    "        direction_str_to_int = {\"buy\": 1, \"sell\": -1}\n",
    "        if direction not in direction_str_to_int:\n",
    "            raise ValueError(f\"{direction} is not a valid direction.\")\n",
    "        direction = direction_str_to_int[direction]\n",
    "    return df.query(\"direction == @direction\")\n",
    "\n",
    "\n",
    "get_buy = partial(query_by_direction, direction=\"buy\")\n",
    "get_sell = partial(query_by_direction, direction=\"sell\")\n",
    "\n",
    "\n",
    "def split_by_direction(df: pd.DataFrame) -> tuple[pd.DataFrame, pd.DataFrame]:\n",
    "    \"Returns a tuple of (buy, sell) DataFrames\"\n",
    "    return get_buy(df), get_sell(df)"
   ]
  },
  {
   "cell_type": "code",
   "execution_count": null,
   "metadata": {},
   "outputs": [],
   "source": [
    "# | export\n",
    "\n",
    "\n",
    "def query_by_event(\n",
    "    df: pd.DataFrame,  # messages dataframe\n",
    "    event: str | Event | EventGroup,  # event as str or `Event` or `EventGroup`.\n",
    ") -> pd.DataFrame:\n",
    "    \"\"\"Query a messages dataframe on the event column.\"\"\"\n",
    "    if isinstance(event, str):\n",
    "        event_str_to_enum = {\n",
    "            \"unknown\": Event.UNKNOWN.value,\n",
    "            \"submission\": Event.SUBMISSION.value,\n",
    "            \"cancellation\": Event.CANCELLATION.value,\n",
    "            \"deletion\": Event.DELETION.value,\n",
    "            \"execution\": Event.EXECUTION.value,\n",
    "            \"hidden execution\": Event.HIDDEN_EXECUTION.value,\n",
    "            \"cross trade\": Event.CROSS_TRADE.value,\n",
    "            \"trading halt\": Event.TRADING_HALT.value,\n",
    "            \"other\": Event.OTHER.value,\n",
    "            \"resume quote\": Event.RESUME_QUOTE.value,\n",
    "            \"trading resume\": Event.TRADING_RESUME.value,\n",
    "            \"executions\": EventGroup.EXECUTIONS.value,\n",
    "            \"halts\": EventGroup.HALTS.value,\n",
    "            \"cancellations\": EventGroup.CANCELLATIONS.value,\n",
    "        }\n",
    "        event = event.lower().replace(\"_\", \" \")\n",
    "\n",
    "        if event not in event_str_to_enum:\n",
    "            raise ValueError(f\"event must be one of {list(event_str_to_enum.keys())}\")\n",
    "\n",
    "        event = event_str_to_enum[event]\n",
    "\n",
    "    elif isinstance(event, Event | EventGroup):\n",
    "        event = event.value\n",
    "\n",
    "    if isinstance(event, list):\n",
    "        return df.query(\"event in @event\")\n",
    "    elif isinstance(event, int):\n",
    "        return df.query(\"event == @event\")\n"
   ]
  },
  {
   "cell_type": "code",
   "execution_count": null,
   "metadata": {},
   "outputs": [],
   "source": [
    "# | export\n",
    "\n",
    "get_executions = partial(query_by_event, event_str=\"executions\")\n",
    "get_halts = partial(query_by_event, event_str=\"halts\")\n",
    "get_cancellations = partial(query_by_event, event_str=\"cancellations\")\n",
    "\n",
    "\n",
    "def load_executions(\n",
    "    date_range: str, tickers: list[str], ticker_type: str\n",
    ") -> pd.DataFrame:\n",
    "    ticker_execution_dfs = []\n",
    "    for ticker in tickers:\n",
    "        ticker_execution_dfs.append(\n",
    "            load_lobster(\n",
    "                ticker=ticker,\n",
    "                date_range=date_range,\n",
    "                lobster_only=True,\n",
    "                add_ticker=True,\n",
    "                ticker_type=ticker_type,\n",
    "            ).messages.pipe(get_executions)\n",
    "        )\n",
    "\n",
    "    tickers_execution = pd.concat(ticker_execution_dfs).astype(\n",
    "        dtype={\"ticker\": \"category\"}\n",
    "    )\n",
    "    return tickers_execution\n",
    "\n",
    "\n",
    "load_equity_executions = partial(load_executions, ticker_type=\"equity\")\n",
    "load_etf_executions = partial(load_executions, ticker_type=\"etf\")\n"
   ]
  },
  {
   "cell_type": "code",
   "execution_count": null,
   "metadata": {},
   "outputs": [],
   "source": [
    "# | export\n",
    "\n",
    "\n",
    "def query_ticker_type(df, ticker_type):\n",
    "    return df.query(\"ticker_type == @ticker_type\")\n",
    "\n",
    "\n",
    "get_equity = partial(query_ticker_type, ticker_type=\"equity\")\n",
    "get_etf = partial(query_ticker_type, ticker_type=\"etf\")\n"
   ]
  },
  {
   "cell_type": "code",
   "execution_count": null,
   "metadata": {},
   "outputs": [],
   "source": [
    "# | hide\n",
    "import nbdev\n",
    "\n",
    "nbdev.nbdev_export()"
   ]
  }
 ],
 "metadata": {
  "kernelspec": {
   "display_name": "python3",
   "language": "python",
   "name": "python3"
  }
 },
 "nbformat": 4,
 "nbformat_minor": 4
}
