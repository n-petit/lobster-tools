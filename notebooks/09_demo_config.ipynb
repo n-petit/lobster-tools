{
 "cells": [
  {
   "attachments": {},
   "cell_type": "markdown",
   "metadata": {},
   "source": [
    "# Demo Config\n",
    "\n",
    "> Demo of a congiguration file with database paths, urls etc..."
   ]
  },
  {
   "cell_type": "code",
   "execution_count": null,
   "metadata": {},
   "outputs": [],
   "source": [
    "%load_ext autoreload\n",
    "%autoreload 2"
   ]
  },
  {
   "cell_type": "code",
   "execution_count": null,
   "metadata": {},
   "outputs": [],
   "source": [
    "# | default_exp demo_config"
   ]
  },
  {
   "cell_type": "code",
   "execution_count": null,
   "metadata": {},
   "outputs": [],
   "source": [
    "# | hide\n",
    "from nbdev.showdoc import *"
   ]
  },
  {
   "cell_type": "code",
   "execution_count": null,
   "metadata": {},
   "outputs": [],
   "source": [
    "# | export\n",
    "from dataclasses import dataclass, field\n",
    "from hydra.core.config_store import ConfigStore\n",
    "from typing import Any\n",
    "from omegaconf import MISSING\n",
    "from hydra.conf import HydraConf, RunDir"
   ]
  },
  {
   "cell_type": "code",
   "execution_count": null,
   "metadata": {},
   "outputs": [],
   "source": [
    "# | exports\n",
    "# | code-fold: true\n",
    "\n",
    "@dataclass(frozen=True)\n",
    "class MySQLConfig:\n",
    "    host: str = \"localhost\"\n",
    "    port: int = 3306\n",
    "\n",
    "@dataclass\n",
    "class UserInterface:\n",
    "    title: str = MISSING\n",
    "    width: int = MISSING\n",
    "    height: int = MISSING\n",
    "\n",
    "@dataclass\n",
    "class UserInterface1(UserInterface):\n",
    "    title: str = \"UI1\"\n",
    "    width: int = 1024\n",
    "    height: int = 768\n",
    "    \n",
    "@dataclass\n",
    "class UserInterface2(UserInterface):\n",
    "    title: str = \"My other app\"\n",
    "    width: int = 1024\n",
    "    height: int = 768\n",
    "    new: str = \"ui1 doens't have this attr\"\n",
    "\n",
    "@dataclass\n",
    "class CustomHydraConf(HydraConf):\n",
    "    \"\"\"For now stick with dataclass\"\"\"\n",
    "    run: RunDir = field(default_factory=lambda: RunDir(\"../yewster/${now:%Y-%m-%d}/${now:%H-%M-%S}\"))\n",
    "    # sweep: SweepDir = field(default_factory=lambda: SweepDir(dir=\"custom_name/${now:%Y-%m-%d}/${now:%H-%M-%S}\", subdir=\"${hydra.job.num}\"))\n",
    "\n",
    "\n",
    "\n",
    "# note that overrides must be at end of list. note that including \"_self_\" as the last\n",
    "# entry before the overrides does not change the behavior, but simply suppresses the\n",
    "# warning. It dictates the order in which the config is merged, here it's command line args\n",
    "# take precedence over defaults. \n",
    "defaults = [{\"ui\": \"ui1\"}, \"_self_\", {\"override hydra/launcher\": \"joblib\"}]\n",
    "@dataclass\n",
    "class MainConfig:\n",
    "    defaults: list[Any] = field(default_factory=lambda: defaults)\n",
    "    hydra: CustomHydraConf = field(default_factory=CustomHydraConf)\n",
    "    db: MySQLConfig = field(default_factory=MySQLConfig)\n",
    "    ui: UserInterface = MISSING\n",
    "    \n",
    "    # the below doesn't run for calling ui=ui2 as UserInterface1 is not a subclass of UserInterface2\n",
    "    # ui: UserInterface = field(default_factory=UserInterface1)\n",
    "    # its just unfortunate that the defaults are kinda split because of this\n",
    "    # some in the defaults list (like ui as the classes have different structures) and some\n",
    "    # just having the default factory (like db)\n",
    "\n",
    "def register_configs() -> None:\n",
    "    cs = ConfigStore.instance()\n",
    "    cs.store(group=\"ui\", name=\"ui1\", node=UserInterface1)\n",
    "    cs.store(group=\"ui\", name=\"ui2\", node=UserInterface2)\n",
    "    cs.store(name=\"config\", node=MainConfig)"
   ]
  },
  {
   "cell_type": "code",
   "execution_count": null,
   "metadata": {},
   "outputs": [],
   "source": [
    "# | hide\n",
    "import nbdev\n",
    "\n",
    "nbdev.nbdev_export()"
   ]
  }
 ],
 "metadata": {
  "kernelspec": {
   "display_name": "python3",
   "language": "python",
   "name": "python3"
  }
 },
 "nbformat": 4,
 "nbformat_minor": 4
}
