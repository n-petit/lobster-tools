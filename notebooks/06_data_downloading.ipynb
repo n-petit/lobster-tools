{
 "cells": [
  {
   "attachments": {},
   "cell_type": "markdown",
   "metadata": {},
   "source": [
    "# Data downloading\n",
    "\n",
    "> Script to download LOBSTER sample data."
   ]
  },
  {
   "cell_type": "code",
   "execution_count": null,
   "metadata": {},
   "outputs": [],
   "source": [
    "%load_ext autoreload\n",
    "%autoreload 2"
   ]
  },
  {
   "cell_type": "code",
   "execution_count": null,
   "metadata": {},
   "outputs": [],
   "source": [
    "# | default_exp data_downloading"
   ]
  },
  {
   "cell_type": "code",
   "execution_count": null,
   "metadata": {},
   "outputs": [],
   "source": [
    "# | hide\n",
    "from nbdev.showdoc import *"
   ]
  },
  {
   "cell_type": "code",
   "execution_count": null,
   "metadata": {},
   "outputs": [],
   "source": [
    "# | hide\n",
    "import sys\n",
    "sys.path.append(\"../\")"
   ]
  },
  {
   "cell_type": "code",
   "execution_count": null,
   "metadata": {},
   "outputs": [],
   "source": [
    "# | export\n",
    "import io\n",
    "import os\n",
    "import zipfile\n",
    "from typing import Literal\n",
    "\n",
    "import click\n",
    "import requests\n",
    "\n",
    "from hydra import initialize, initialize_config_module, initialize_config_dir, compose\n",
    "from omegaconf import OmegaConf\n",
    "from pathlib import Path\n",
    "from lobster_tools.config import MainConfig, register_configs"
   ]
  },
  {
   "cell_type": "code",
   "execution_count": null,
   "metadata": {},
   "outputs": [
    {
     "name": "stdout",
     "output_type": "stream",
     "text": [
      "MainConfig(hydra=CustomHydraConf(defaults=[{'output': 'default'}, {'launcher': 'basic'}, {'sweeper': 'basic'}, {'help': 'default'}, {'hydra_help': 'default'}, {'hydra_logging': 'default'}, {'job_logging': 'default'}, {'callbacks': None}, {'env': 'default'}], mode=None, searchpath=[], run=RunDir(dir='../custom_directory/${now:%Y-%m-%d}/${now:%H-%M-%S}'), sweep=SweepDir(dir='???', subdir='???'), hydra_logging='???', job_logging='???', sweeper='???', launcher='???', callbacks={}, help=HelpConf(app_name='???', header='???', footer='???', template='???'), hydra_help=HydraHelpConf(hydra_help='???', template='???'), output_subdir='.hydra', overrides=OverridesConf(hydra=[], task=[]), job=JobConf(name='???', chdir=None, override_dirname='???', id='???', num='???', config_name='???', env_set={}, env_copy=[], config=JobConf.JobConfig(override_dirname=JobConf.JobConfig.OverrideDirname(kv_sep='=', item_sep=',', exclude_keys=[]))), runtime=RuntimeConf(version='???', version_base='???', cwd='???', config_sources='???', output_dir='???', choices={}), verbose=False), db=ArcticDB(db_path='/nfs/home/nicolasp/home/data/arctic', library_name='lobster', columns_per_segment=63), data=DataPaths(zip_files_path='/nfs/lobster_data/lobster_raw', csv_files_path='/nfs/home/nicolasp/home/data/arctic'), universe=Universe(etfs=['XLE']), sample_data=SampleData(ticker='AMZN', levels='5'))\n",
      "['XOM', 'CVX', 'EOG', 'COP', 'SLB', 'MPC', 'PXD', 'PSX', 'VLO', 'OXY', 'HES', 'WMB', 'KMI', 'DVN', 'BKR', 'HAL', 'OKE', 'FANG', 'CTRA', 'TRGP', 'MRO', 'EQT', 'APA']\n"
     ]
    }
   ],
   "source": [
    "# | export\n",
    "\n",
    "# access config by normal python import\n",
    "cfg = MainConfig()\n",
    "# register configs and then build object\n",
    "register_configs()\n",
    "with initialize(version_base=None, config_path=None):\n",
    "    cfg_omega = compose(config_name=\"config\")\n",
    "    cfg = OmegaConf.to_object(compose(config_name=\"config\"))\n",
    "    print(cfg)\n",
    "    print(cfg.universe.equities)"
   ]
  },
  {
   "cell_type": "code",
   "execution_count": null,
   "metadata": {},
   "outputs": [],
   "source": [
    "# | exports\n",
    "# | code-fold: true\n",
    "CONTEXT_SETTINGS = dict(\n",
    "    help_option_names=[\"-h\", \"--help\"],\n",
    "    token_normalize_func=lambda x: x.lower() if isinstance(x, str) else x,\n",
    "    show_default=True,\n",
    ")\n",
    "\n",
    "\n",
    "@click.command(context_settings=CONTEXT_SETTINGS)\n",
    "@click.option(\"-t\", \"--ticker\", default=cfg.sample_data.ticker, help=\"ticker\")\n",
    "@click.option(\"-l\", \"--levels\", default=cfg.sample_data.levels, help=\"number of levels\")\n",
    "def get_sample_data(\n",
    "    ticker: Literal[\"AMZN\", \"AAPL\", \"GOOG\", \"INTC\", \"MSFT\"],\n",
    "    levels: Literal[1, 5, 10],\n",
    "    output_dir=None,\n",
    "):\n",
    "    \"\"\"Download and extract sample data from LOBSTER website.\"\"\"\n",
    "    SAMPLE_DATA_DATE = \"2012-06-21\"\n",
    "    url = f\"https://lobsterdata.com/info/sample/LOBSTER_SampleFile_{ticker}_{SAMPLE_DATA_DATE}_{levels}.zip\"\n",
    "    print(f\"Downloading data from {url}\")\n",
    "    \n",
    "    default_directory_name = f\"data/{ticker}_{SAMPLE_DATA_DATE}_{SAMPLE_DATA_DATE}_{levels}\"\n",
    "    output_dir = os.path.join(os.getcwd(), default_directory_name)\n",
    "\n",
    "    os.makedirs(output_dir, exist_ok=True)\n",
    "\n",
    "    response = requests.get(url)\n",
    "    if response.status_code != 200:\n",
    "        print(f\"Failed to download data. HTTP Status Code: {response.status_code}\")\n",
    "        return\n",
    "\n",
    "    with zipfile.ZipFile(io.BytesIO(response.content)) as zip_ref:\n",
    "        zip_ref.extractall(output_dir)"
   ]
  },
  {
   "cell_type": "code",
   "execution_count": null,
   "metadata": {},
   "outputs": [
    {
     "data": {
      "text/markdown": [
       "---\n",
       "\n",
       "### <Command get-sample-data>\n",
       "\n",
       ">      <Command get-sample-data> (*args:Any, **kwargs:Any)\n",
       "\n",
       "Download and extract sample data from LOBSTER website."
      ],
      "text/plain": [
       "---\n",
       "\n",
       "### <Command get-sample-data>\n",
       "\n",
       ">      <Command get-sample-data> (*args:Any, **kwargs:Any)\n",
       "\n",
       "Download and extract sample data from LOBSTER website."
      ]
     },
     "execution_count": null,
     "metadata": {},
     "output_type": "execute_result"
    }
   ],
   "source": [
    "show_doc(get_sample_data)\n"
   ]
  },
  {
   "cell_type": "markdown",
   "metadata": {},
   "source": [
    "To download and extract the [Lobster sample data](https://lobsterdata.com/info/DataSamples.php), run the following command in the directory of your choice.\n",
    "```sh\n",
    "$ get_sample_data\n",
    "```\n",
    "To download a different ticker, or different number of levels, use the -t and -l flags.\n",
    "```sh\n",
    "$ get_sample_data -t GOOG -l 10 \n",
    "```"
   ]
  },
  {
   "cell_type": "code",
   "execution_count": null,
   "metadata": {},
   "outputs": [],
   "source": [
    "# | hide\n",
    "import nbdev\n",
    "\n",
    "nbdev.nbdev_export()"
   ]
  }
 ],
 "metadata": {
  "kernelspec": {
   "display_name": "python3",
   "language": "python",
   "name": "python3"
  }
 },
 "nbformat": 4,
 "nbformat_minor": 4
}
