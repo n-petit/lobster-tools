{
 "cells": [
  {
   "attachments": {},
   "cell_type": "markdown",
   "metadata": {},
   "source": [
    "# Data downloading\n",
    "\n",
    "> Script to download LOBSTER sample data."
   ]
  },
  {
   "cell_type": "code",
   "execution_count": null,
   "metadata": {},
   "outputs": [],
   "source": [
    "%load_ext autoreload\n",
    "%autoreload 2"
   ]
  },
  {
   "cell_type": "code",
   "execution_count": null,
   "metadata": {},
   "outputs": [],
   "source": [
    "# | default_exp data_downloading"
   ]
  },
  {
   "cell_type": "code",
   "execution_count": null,
   "metadata": {},
   "outputs": [],
   "source": [
    "# | hide\n",
    "from nbdev.showdoc import *"
   ]
  },
  {
   "cell_type": "code",
   "execution_count": null,
   "metadata": {},
   "outputs": [],
   "source": [
    "# | export\n",
    "import io\n",
    "import os\n",
    "import zipfile\n",
    "from typing import Literal\n",
    "\n",
    "import click\n",
    "import requests"
   ]
  },
  {
   "cell_type": "code",
   "execution_count": null,
   "metadata": {},
   "outputs": [],
   "source": [
    "# | exports\n",
    "# | code-fold: true\n",
    "CONTEXT_SETTINGS = dict(\n",
    "    help_option_names=[\"-h\", \"--help\"],\n",
    "    token_normalize_func=lambda x: x.lower() if isinstance(x, str) else x,\n",
    ")\n",
    "\n",
    "\n",
    "@click.command(context_settings=CONTEXT_SETTINGS)\n",
    "@click.option(\"-o\", \"--output-dir\", required=False, help=\"location of output directory\")\n",
    "@click.option(\"-t\", \"--ticker\", required=False, help=\"ticker\")\n",
    "@click.option(\"-l\", \"--levels\", required=False, help=\"number of levels\")\n",
    "def get_sample_data(\n",
    "    ticker: Literal[\"AMZN\", \"AAPL\", \"GOOG\", \"INTC\", \"MSFT\"] = \"AMZN\",\n",
    "    levels: Literal[1, 5, 10] = 5,\n",
    "    output_dir=None,\n",
    "):\n",
    "    \"\"\"Download and extract sample data from LOBSTER website.\"\"\"\n",
    "    SAMPLE_DATA_DATE = \"2012-06-21\"\n",
    "    url = f\"https://lobsterdata.com/info/sample/LOBSTER_SampleFile_{ticker}_{SAMPLE_DATA_DATE}_{levels}.zip\"\n",
    "\n",
    "    if output_dir is None:\n",
    "        default_directory_name = \"data/AMZN_2012-06-21_2-2012-06-21_5\"\n",
    "        output_dir = os.path.join(os.getcwd(), default_directory_name)\n",
    "\n",
    "    os.makedirs(output_dir, exist_ok=True)\n",
    "\n",
    "    response = requests.get(url)\n",
    "    if response.status_code != 200:\n",
    "        print(f\"Failed to download data. HTTP Status Code: {response.status_code}\")\n",
    "        return\n",
    "\n",
    "    with zipfile.ZipFile(io.BytesIO(response.content)) as zip_ref:\n",
    "        zip_ref.extractall(output_dir)"
   ]
  },
  {
   "cell_type": "markdown",
   "metadata": {},
   "source": [
    "To download and extract the [AMZN Lobster sample data](https://lobsterdata.com/info/DataSamples.php), run the following command in the directory of your choice.\n",
    "```sh\n",
    "$ get_sample_data\n",
    "```\n",
    "The output directory can also be specified with the optional -o flag\n",
    "```sh\n",
    "$ get_sample_data -o ./data/AMZN_2012-06-21_2-2012-06-21_5\n",
    "```"
   ]
  },
  {
   "cell_type": "code",
   "execution_count": null,
   "metadata": {},
   "outputs": [],
   "source": [
    "# | hide\n",
    "import nbdev\n",
    "\n",
    "nbdev.nbdev_export()"
   ]
  }
 ],
 "metadata": {
  "kernelspec": {
   "display_name": "python3",
   "language": "python",
   "name": "python3"
  }
 },
 "nbformat": 4,
 "nbformat_minor": 4
}
