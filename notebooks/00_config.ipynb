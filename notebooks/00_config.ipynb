{
 "cells": [
  {
   "attachments": {},
   "cell_type": "markdown",
   "metadata": {},
   "source": [
    "# Config\n",
    "\n",
    "> Congiguration file with database paths, urls etc..."
   ]
  },
  {
   "cell_type": "code",
   "execution_count": null,
   "metadata": {},
   "outputs": [],
   "source": [
    "%load_ext autoreload\n",
    "%autoreload 2"
   ]
  },
  {
   "cell_type": "code",
   "execution_count": null,
   "metadata": {},
   "outputs": [],
   "source": [
    "# | default_exp config"
   ]
  },
  {
   "cell_type": "code",
   "execution_count": null,
   "metadata": {},
   "outputs": [],
   "source": [
    "# | hide\n",
    "from nbdev.showdoc import *"
   ]
  },
  {
   "cell_type": "code",
   "execution_count": null,
   "metadata": {},
   "outputs": [],
   "source": [
    "# | export\n",
    "\n",
    "from dataclasses import dataclass, field\n",
    "from itertools import chain\n",
    "from typing import Any\n",
    "\n",
    "import pandas as pd\n",
    "from hydra.conf import HydraConf, RunDir\n",
    "from hydra.core.config_store import ConfigStore\n",
    "from omegaconf import MISSING"
   ]
  },
  {
   "cell_type": "code",
   "execution_count": null,
   "metadata": {},
   "outputs": [
    {
     "ename": "NameError",
     "evalue": "name 'dataclass' is not defined",
     "output_type": "error",
     "traceback": [
      "\u001b[0;31m---------------------------------------------------------------------------\u001b[0m",
      "\u001b[0;31mNameError\u001b[0m                                 Traceback (most recent call last)",
      "\u001b[1;32m/home/petit/Documents/code/lobster-tools/notebooks/00_config.ipynb Cell 6\u001b[0m line \u001b[0;36m5\n\u001b[1;32m      <a href='vscode-notebook-cell:/home/petit/Documents/code/lobster-tools/notebooks/00_config.ipynb#X10sZmlsZQ%3D%3D?line=0'>1</a>\u001b[0m \u001b[39m# | exports\u001b[39;00m\n\u001b[1;32m      <a href='vscode-notebook-cell:/home/petit/Documents/code/lobster-tools/notebooks/00_config.ipynb#X10sZmlsZQ%3D%3D?line=1'>2</a>\u001b[0m \u001b[39m# | code-fold: true\u001b[39;00m\n\u001b[0;32m----> <a href='vscode-notebook-cell:/home/petit/Documents/code/lobster-tools/notebooks/00_config.ipynb#X10sZmlsZQ%3D%3D?line=4'>5</a>\u001b[0m \u001b[39m@dataclass\u001b[39m(frozen\u001b[39m=\u001b[39m\u001b[39mTrue\u001b[39;00m)\n\u001b[1;32m      <a href='vscode-notebook-cell:/home/petit/Documents/code/lobster-tools/notebooks/00_config.ipynb#X10sZmlsZQ%3D%3D?line=5'>6</a>\u001b[0m \u001b[39mclass\u001b[39;00m \u001b[39mArcticDB\u001b[39;00m:\n\u001b[1;32m      <a href='vscode-notebook-cell:/home/petit/Documents/code/lobster-tools/notebooks/00_config.ipynb#X10sZmlsZQ%3D%3D?line=6'>7</a>\u001b[0m     db_path: \u001b[39mstr\u001b[39m \u001b[39m=\u001b[39m \u001b[39m\"\u001b[39m\u001b[39m/nfs/home/nicolasp/home/data/arctic\u001b[39m\u001b[39m\"\u001b[39m\n\u001b[1;32m      <a href='vscode-notebook-cell:/home/petit/Documents/code/lobster-tools/notebooks/00_config.ipynb#X10sZmlsZQ%3D%3D?line=7'>8</a>\u001b[0m     library_name: \u001b[39mstr\u001b[39m \u001b[39m=\u001b[39m \u001b[39m\"\u001b[39m\u001b[39mlobster\u001b[39m\u001b[39m\"\u001b[39m\n",
      "\u001b[0;31mNameError\u001b[0m: name 'dataclass' is not defined"
     ]
    }
   ],
   "source": [
    "# | exports\n",
    "# | code-fold: true\n",
    "\n",
    "\n",
    "@dataclass(frozen=True)\n",
    "class ArcticDB:\n",
    "    db_path: str = \"/nfs/home/nicolasp/home/data/arctic\"\n",
    "    library_name: str = \"lobster\"\n",
    "    columns_per_segment: int = 63\n",
    "\n",
    "\n",
    "@dataclass(frozen=True)\n",
    "class DataPaths:\n",
    "    zip_files_path: str = \"/nfs/lobster_data/lobster_raw\"\n",
    "    csv_files_path: str = \"/nfs/home/nicolasp/home/data/tmp\"\n",
    "\n",
    "\n",
    "@dataclass(frozen=True)\n",
    "class SampleData:\n",
    "    ticker: str = \"AMZN\"\n",
    "    levels: str = 5\n",
    "\n",
    "\n",
    "@dataclass\n",
    "class Hyperparameters:\n",
    "    date_range: tuple[str, str] = (\"2020-01-02\", \"2020-01-02\")\n",
    "    tolerances: list[str] = field(default_factory=lambda: ['150us', '250us', '500us'])\n",
    "    resample_freq: str = \"5min\"\n",
    "    markouts: list[str] = field(default_factory=lambda: [\"30S\", \"1min\", \"2min\", \"5min\"])\n",
    "\n",
    "    def __post_init__(self):\n",
    "        self.max_markout = max(self.markouts, key=lambda x: pd.Timedelta(x))\n",
    "        self.finest_resample = min(self.markouts, key=lambda x: pd.Timedelta(x))\n",
    "\n",
    "\n",
    "@dataclass\n",
    "class Universe:\n",
    "    etfs: list[str] = field(default_factory=lambda: [\"XLE\"])\n",
    "\n",
    "    def __post_init__(self):\n",
    "        etf_to_equities = {\"SPY\": [\"AAPL\", \"MSFT\", \"AMZN\", \"NVDA\", \"GOOGL\", \"GOOG\", \"BRK.B\", \"META\", \"TSLA\", \"UNH\", \"XOM\", \"JNJ\", \"JPM\", \"V\", \"PG\", \"LLY\", \"MA\", \"AVGO\", \"HD\", \"MRK\", \"CVX\", \"PEP\", \"ABBV\", \"KO\", \"COST\", \"PFE\", \"CRM\", \"MCD\", \"WMT\", \"TMO\", \"CSCO\", \"BAC\", \"AMD\", \"ACN\", \"ADBE\", \"ABT\", \"LIN\", \"CMCSA\", \"DIS\", \"ORCL\", \"NFLX\", \"WFC\", \"TXN\", \"DHR\", \"VZ\", \"NEE\", \"PM\", \"BMY\", \"RTX\", \"NKE\", \"HON\", \"UPS\", \"COP\", \"LOW\", \"UNP\", \"SPGI\", \"INTU\", \"AMGN\", \"QCOM\", \"IBM\", \"INTC\", \"SBUX\", \"BA\", \"PLD\", \"MDT\", \"GE\", \"AMAT\", \"GS\", \"CAT\", \"MS\", \"T\", \"NOW\", \"ELV\", \"ISRG\", \"MDLZ\", \"LMT\", \"BKNG\", \"BLK\", \"GILD\", \"DE\", \"SYK\", \"AXP\", \"TJX\", \"ADI\", \"ADP\", \"CVS\", \"MMC\", \"C\", \"VRTX\", \"AMT\", \"SCHW\", \"LRCX\", \"TMUS\", \"MO\", \"CB\", \"REGN\", \"ZTS\", \"MU\", \"SO\", \"PGR\", \"CI\", \"BSX\", \"FISV\", \"ETN\", \"BDX\", \"DUK\", \"PYPL\", \"SNPS\", \"EQIX\", \"CSX\", \"EOG\", \"TGT\", \"SLB\", \"AON\", \"CL\", \"CME\", \"HUM\", \"NOC\", \"ITW\", \"CDNS\", \"APD\", \"KLAC\", \"WM\", \"ICE\", \"ORLY\", \"CMG\", \"HCA\", \"ATVI\", \"MCK\", \"MMM\", \"SHW\", \"FDX\", \"EW\", \"GIS\", \"MPC\", \"PXD\", \"MCO\", \"CCI\", \"NSC\", \"FCX\", \"PNC\", \"ROP\", \"MSI\", \"KMB\", \"AZO\", \"MAR\", \"GD\", \"DG\", \"GM\", \"EMR\", \"SRE\", \"PSA\", \"F\", \"PSX\", \"NXPI\", \"EL\", \"DXCM\", \"APH\", \"MNST\", \"VLO\", \"FTNT\", \"AJG\", \"BIIB\", \"OXY\", \"ADSK\", \"USB\", \"AEP\", \"D\", \"PH\", \"JCI\", \"MRNA\", \"ECL\", \"TDG\", \"MCHP\", \"TFC\", \"ADM\", \"TRV\", \"CTAS\", \"AIG\", \"EXC\", \"CTVA\", \"ANET\", \"TT\", \"HSY\", \"COF\", \"IDXX\", \"TEL\", \"STZ\", \"CPRT\", \"HLT\", \"MSCI\", \"PCAR\", \"IQV\", \"O\", \"YUM\", \"AFL\", \"HES\", \"SYY\", \"DOW\", \"ON\", \"A\", \"WMB\", \"ROST\", \"XEL\", \"CNC\", \"WELL\", \"MET\", \"PAYX\", \"CARR\", \"VRSK\", \"NUE\", \"OTIS\", \"CHTR\", \"LHX\", \"AME\", \"DHI\", \"SPG\", \"ED\", \"EA\", \"NEM\", \"AMP\", \"KMI\", \"KR\", \"RMD\", \"CTSH\", \"FIS\", \"CSGP\", \"ROK\", \"DVN\", \"PPG\", \"FAST\", \"DD\", \"ILMN\", \"VICI\", \"KHC\", \"PEG\", \"CMI\", \"GWW\", \"BK\", \"PRU\", \"ALL\", \"MTD\", \"RSG\", \"GEHC\", \"DLTR\", \"KEYS\", \"ODFL\", \"BKR\", \"LEN\", \"ABC\", \"AWK\", \"HAL\", \"WEC\", \"CEG\", \"ZBH\", \"ACGL\", \"HPQ\", \"ANSS\", \"KDP\", \"DFS\", \"IT\", \"PCG\", \"DLR\", \"GPN\", \"VMC\", \"OKE\", \"EFX\", \"WST\", \"EIX\", \"ULTA\", \"MLM\", \"PWR\", \"ES\", \"WBD\", \"APTV\", \"FANG\", \"ALB\", \"SBAC\", \"AVB\", \"CBRE\", \"STT\", \"EBAY\", \"GLW\", \"URI\", \"TSCO\", \"XYL\", \"WTW\", \"TROW\", \"IR\", \"CDW\", \"FTV\", \"DAL\", \"CHD\", \"GPC\", \"ENPH\", \"LYB\", \"MPWR\", \"MKC\", \"CAH\", \"HIG\", \"TTWO\", \"WBA\", \"WY\", \"AEE\", \"BAX\", \"DTE\", \"VRSN\", \"MTB\", \"ALGN\", \"EQR\", \"FE\", \"STE\", \"IFF\", \"FSLR\", \"ETR\", \"CTRA\", \"DRI\", \"HOLX\", \"CLX\", \"EXR\", \"FICO\", \"PODD\", \"PPL\", \"INVH\", \"DOV\", \"HPE\", \"LH\", \"TDY\", \"COO\", \"LVS\", \"EXPD\", \"OMC\", \"NDAQ\", \"RJF\", \"CNP\", \"ARE\", \"BR\", \"K\", \"LUV\", \"FITB\", \"FLT\", \"VTR\", \"NVR\", \"RCL\", \"WAB\", \"MAA\", \"BALL\", \"CMS\", \"SEDG\", \"CAG\", \"ATO\", \"RF\", \"TYL\", \"GRMN\", \"HWM\", \"SWKS\", \"MOH\", \"SJM\", \"STLD\", \"IRM\", \"TRGP\", \"CINF\", \"LW\", \"UAL\", \"WAT\", \"PFG\", \"TER\", \"IEX\", \"PHM\", \"NTRS\", \"NTAP\", \"HBAN\", \"BRO\", \"MRO\", \"TSN\", \"FDS\", \"DGX\", \"RVTY\", \"AMCR\", \"EPAM\", \"IPG\", \"J\", \"EXPE\", \"JBHT\", \"RE\", \"CBOE\", \"AKAM\", \"BG\", \"BBY\", \"PTC\", \"LKQ\", \"SNA\", \"PAYC\", \"AVY\", \"ZBRA\", \"AES\", \"EQT\", \"ESS\", \"EVRG\", \"TXT\", \"CFG\", \"SYF\", \"AXON\", \"FMC\", \"TECH\", \"LNT\", \"POOL\", \"MGM\", \"CF\", \"WDC\", \"HST\", \"PKG\", \"UDR\", \"CHRW\", \"STX\", \"NDSN\", \"INCY\", \"MOS\", \"LYV\", \"TRMB\", \"KMX\", \"SWK\", \"WRB\", \"TAP\", \"CPT\", \"MAS\", \"BWA\", \"L\", \"CCL\", \"BF.B\", \"IP\", \"HRL\", \"VTRS\", \"TFX\", \"KIM\", \"NI\", \"DPZ\", \"APA\", \"ETSY\", \"JKHY\", \"LDOS\", \"WYNN\", \"PEAK\", \"CE\", \"CPB\", \"MKTX\", \"HSIC\", \"CRL\", \"TPR\", \"EMN\", \"GEN\", \"JNPR\", \"GL\", \"QRVO\", \"MTCH\", \"CDAY\", \"AAL\", \"PNR\", \"ALLE\", \"KEY\", \"FOXA\", \"ROL\", \"CZR\", \"FFIV\", \"PNW\", \"REG\", \"AOS\", \"BBWI\", \"UHS\", \"XRAY\", \"BIO\", \"HII\", \"NRG\", \"HAS\", \"RHI\", \"GNRC\", \"WHR\", \"NWSA\", \"PARA\", \"WRK\", \"BEN\", \"AAP\", \"BXP\", \"IVZ\", \"CTLT\", \"AIZ\", \"FRT\", \"NCLH\", \"SEE\", \"VFC\", \"ALK\", \"DXC\", \"DVA\", \"CMA\", \"OGN\", \"MHK\", \"RL\", \"ZION\", \"FOX\", \"LNC\", \"NWL\", \"NWS\", \"DISH\", \"VNT\"], \"XLF\": [\"BRK.B\", \"JPM\", \"V\", \"MA\", \"BAC\", \"WFC\", \"SPGI\", \"GS\", \"MS\", \"BLK\", \"AXP\", \"MMC\", \"C\", \"SCHW\", \"CB\", \"PGR\", \"FISV\", \"PYPL\", \"AON\", \"CME\", \"ICE\", \"MCO\", \"PNC\", \"AJG\", \"USB\", \"TFC\", \"TRV\", \"AIG\", \"COF\", \"MSCI\", \"AFL\", \"MET\", \"AMP\", \"FIS\", \"BK\", \"PRU\", \"ALL\", \"ACGL\", \"DFS\", \"GPN\", \"STT\", \"WTW\", \"TROW\", \"HIG\", \"MTB\", \"NDAQ\", \"RJF\", \"FLT\", \"FITB\", \"RF\", \"CINF\", \"PFG\", \"RE\", \"HBAN\", \"NTRS\", \"BRO\", \"FDS\", \"CBOE\", \"CFG\", \"SYF\", \"WRB\", \"L\", \"JKHY\", \"MKTX\", \"GL\", \"KEY\", \"BEN\", \"IVZ\", \"AIZ\", \"CMA\", \"ZION\", \"LNC\"], \"XLB\": [\"LIN\", \"APD\", \"SHW\", \"FCX\", \"ECL\", \"CTVA\", \"DOW\", \"NUE\", \"NEM\", \"PPG\", \"DD\", \"VMC\", \"MLM\", \"ALB\", \"LYB\", \"IFF\", \"BALL\", \"STLD\", \"AMCR\", \"AVY\", \"FMC\", \"CF\", \"PKG\", \"MOS\", \"IP\", \"CE\", \"EMN\", \"WRK\", \"SEE\"], \"XLK\": [\"MSFT\", \"AAPL\", \"NVDA\", \"AVGO\", \"CRM\", \"CSCO\", \"AMD\", \"ACN\", \"ADBE\", \"ORCL\", \"TXN\", \"INTU\", \"QCOM\", \"IBM\", \"INTC\", \"AMAT\", \"NOW\", \"ADI\", \"LRCX\", \"MU\", \"SNPS\", \"CDNS\", \"KLAC\", \"ROP\", \"MSI\", \"NXPI\", \"APH\", \"FTNT\", \"ADSK\", \"MCHP\", \"ANET\", \"TEL\", \"ON\", \"CTSH\", \"KEYS\", \"IT\", \"HPQ\", \"ANSS\", \"GLW\", \"CDW\", \"ENPH\", \"MPWR\", \"VRSN\", \"FSLR\", \"FICO\", \"HPE\", \"TDY\", \"SEDG\", \"TYL\", \"SWKS\", \"TER\", \"NTAP\", \"EPAM\", \"AKAM\", \"PTC\", \"ZBRA\", \"WDC\", \"STX\", \"TRMB\", \"JNPR\", \"GEN\", \"QRVO\", \"FFIV\", \"DXC\"], \"XLV\": [\"UNH\", \"JNJ\", \"LLY\", \"MRK\", \"ABBV\", \"PFE\", \"TMO\", \"ABT\", \"DHR\", \"BMY\", \"AMGN\", \"MDT\", \"ELV\", \"ISRG\", \"GILD\", \"SYK\", \"CVS\", \"VRTX\", \"REGN\", \"ZTS\", \"BSX\", \"CI\", \"BDX\", \"HUM\", \"HCA\", \"MCK\", \"EW\", \"DXCM\", \"BIIB\", \"MRNA\", \"IDXX\", \"IQV\", \"A\", \"CNC\", \"RMD\", \"ILMN\", \"MTD\", \"GEHC\", \"ABC\", \"ZBH\", \"WST\", \"CAH\", \"BAX\", \"ALGN\", \"STE\", \"HOLX\", \"PODD\", \"LH\", \"COO\", \"MOH\", \"WAT\", \"DGX\", \"RVTY\", \"TECH\", \"INCY\", \"TFX\", \"VTRS\", \"HSIC\", \"CRL\", \"UHS\", \"BIO\", \"XRAY\", \"CTLT\", \"DVA\", \"OGN\"], \"XLI\": [\"RTX\", \"HON\", \"UPS\", \"UNP\", \"BA\", \"GE\", \"CAT\", \"LMT\", \"DE\", \"ADP\", \"ETN\", \"CSX\", \"NOC\", \"ITW\", \"WM\", \"MMM\", \"FDX\", \"NSC\", \"GD\", \"EMR\", \"PH\", \"JCI\", \"TDG\", \"CTAS\", \"TT\", \"CPRT\", \"PCAR\", \"PAYX\", \"CARR\", \"VRSK\", \"OTIS\", \"LHX\", \"AME\", \"CSGP\", \"ROK\", \"FAST\", \"CMI\", \"GWW\", \"RSG\", \"ODFL\", \"EFX\", \"PWR\", \"URI\", \"XYL\", \"IR\", \"FTV\", \"DAL\", \"DOV\", \"EXPD\", \"BR\", \"LUV\", \"WAB\", \"HWM\", \"UAL\", \"IEX\", \"J\", \"JBHT\", \"SNA\", \"PAYC\", \"AXON\", \"TXT\", \"CHRW\", \"NDSN\", \"SWK\", \"MAS\", \"LDOS\", \"CDAY\", \"PNR\", \"AAL\", \"ALLE\", \"ROL\", \"AOS\", \"HII\", \"GNRC\", \"RHI\", \"ALK\", \"GEHC\"], \"XLU\": [\"NEE\", \"SO\", \"DUK\", \"SRE\", \"AEP\", \"D\", \"EXC\", \"XEL\", \"ED\", \"PEG\", \"AWK\", \"WEC\", \"CEG\", \"PCG\", \"EIX\", \"ES\", \"AEE\", \"DTE\", \"FE\", \"ETR\", \"PPL\", \"CNP\", \"CMS\", \"ATO\", \"AES\", \"EVRG\", \"LNT\", \"NI\", \"PNW\", \"NRG\"], \"XLY\": [\"AMZN\", \"TSLA\", \"HD\", \"MCD\", \"NKE\", \"LOW\", \"SBUX\", \"BKNG\", \"TJX\", \"ORLY\", \"CMG\", \"MAR\", \"AZO\", \"GM\", \"F\", \"HLT\", \"YUM\", \"ROST\", \"DHI\", \"LEN\", \"ULTA\", \"APTV\", \"EBAY\", \"TSCO\", \"GPC\", \"DRI\", \"LVS\", \"RCL\", \"NVR\", \"GRMN\", \"PHM\", \"EXPE\", \"BBY\", \"LKQ\", \"POOL\", \"MGM\", \"KMX\", \"CCL\", \"BWA\", \"ETSY\", \"DPZ\", \"WYNN\", \"TPR\", \"CZR\", \"BBWI\", \"HAS\", \"WHR\", \"AAP\", \"NCLH\", \"VFC\", \"MHK\", \"RL\", \"NWL\"], \"XLP\": [\"PG\", \"PEP\", \"KO\", \"COST\", \"MDLZ\", \"WMT\", \"PM\", \"MO\", \"TGT\", \"CL\", \"GIS\", \"KMB\", \"DG\", \"EL\", \"MNST\", \"ADM\", \"HSY\", \"STZ\", \"SYY\", \"KR\", \"KHC\", \"DLTR\", \"KDP\", \"CHD\", \"MKC\", \"WBA\", \"CLX\", \"K\", \"CAG\", \"SJM\", \"LW\", \"TSN\", \"BG\", \"TAP\", \"BF.B\", \"HRL\", \"CPB\"], \"XLE\": [\"XOM\", \"CVX\", \"EOG\", \"COP\", \"SLB\", \"MPC\", \"PXD\", \"PSX\", \"VLO\", \"OXY\", \"HES\", \"WMB\", \"KMI\", \"DVN\", \"BKR\", \"HAL\", \"OKE\", \"FANG\", \"CTRA\", \"TRGP\", \"MRO\", \"EQT\", \"APA\"], \"XLC\": [\"META\", \"GOOGL\", \"GOOG\", \"NFLX\", \"CMCSA\", \"ATVI\", \"TMUS\", \"VZ\", \"DIS\", \"CHTR\", \"EA\", \"T\", \"WBD\", \"TTWO\", \"OMC\", \"IPG\", \"LYV\", \"MTCH\", \"FOXA\", \"PARA\", \"NWSA\", \"FOX\", \"NWS\", \"DISH\"], \"IYR\": [\"PLD\", \"AMT\", \"EQIX\", \"CCI\", \"PSA\", \"O\", \"WELL\", \"SPG\", \"CSGP\", \"VICI\", \"DLR\", \"SBAC\", \"AVB\", \"CBRE\", \"WY\", \"EQR\", \"EXR\", \"INVH\", \"ARE\", \"VTR\", \"MAA\", \"SUI\", \"IRM\", \"WPC\", \"ESS\", \"UDR\", \"GLPI\", \"HST\", \"CPT\", \"KIM\", \"ELS\", \"LSI\", \"PEAK\", \"AMH\", \"REXR\", \"CUBE\", \"NLY\", \"REG\", \"LAMR\", \"COLD\", \"NNN\", \"Z\", \"EGP\", \"FR\", \"HR\", \"JLL\", \"BXP\", \"OHI\", \"FRT\", \"STAG\", \"BRX\", \"ADC\", \"STWD\", \"SRC\", \"AGNC\", \"AIRC\", \"MPW\", \"RYN\", \"RITM\", \"PCH\", \"BXMT\", \"NSA\", \"DOC\", \"CUZ\", \"KRC\", \"LXP\", \"HHC\", \"ZG\", \"OFC\", \"SBRA\", \"XTSLA\", \"EQC\", \"NHI\", \"VNO\", \"HIW\", \"DEI\", \"SLG\", \"JBGS\", \"OPEN\", \"MLPFT\", \"MARGIN_USD\", \"USD\"]}\n",
    "        self.equities = list(chain.from_iterable([etf_to_equities[etf] for etf in self.etfs]))\n",
    "\n",
    "\n",
    "@dataclass\n",
    "class CustomHydraConf(HydraConf):\n",
    "    run: RunDir = field(default_factory=lambda: RunDir(\"../custom_directory/${now:%Y-%m-%d}/${now:%H-%M-%S}\"))\n",
    "\n",
    "# TODO: think about if the below need to be fields? dataclass frozen are immutable so..maybe field is uneccessary?\n",
    "# at least the mutable ones you need this...right?\n",
    "\n",
    "# TODO: add defaults (works with missing stuff, useful for when class structure slightly different..)\n",
    "# defaults = [{\"universe\": \"XLE\"}, \"_self_\", {\"override hydra/launcher\": \"joblib\"}]\n",
    "@dataclass\n",
    "class MainConfig:\n",
    "    # defaults: list[Any] = field(default_factory=lambda: defaults)\n",
    "    hydra: CustomHydraConf = field(default_factory=CustomHydraConf)\n",
    "    db: ArcticDB = field(default_factory=ArcticDB)\n",
    "    data_paths: DataPaths = field(default_factory=DataPaths)\n",
    "    universe: Universe = field(default_factory=lambda: Universe(etfs=[\"XLE\"]))\n",
    "    sample_data: SampleData = field(default_factory=SampleData)\n",
    "    hyperparameters: Hyperparameters = field(default_factory=Hyperparameters) \n",
    "\n",
    "def register_configs() -> None:\n",
    "    cs = ConfigStore.instance()\n",
    "    cs.store(name=\"config\", node=MainConfig)"
   ]
  },
  {
   "cell_type": "code",
   "execution_count": null,
   "metadata": {},
   "outputs": [],
   "source": [
    "# | hide\n",
    "import nbdev\n",
    "\n",
    "nbdev.nbdev_export()"
   ]
  }
 ],
 "metadata": {
  "kernelspec": {
   "display_name": "python3",
   "language": "python",
   "name": "python3"
  }
 },
 "nbformat": 4,
 "nbformat_minor": 4
}
