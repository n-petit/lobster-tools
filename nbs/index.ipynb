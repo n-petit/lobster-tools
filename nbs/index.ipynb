{
 "cells": [
  {
   "cell_type": "code",
   "execution_count": null,
   "metadata": {},
   "outputs": [],
   "source": [
    "#| hide\n",
    "from lobster_tools.preprocessing import *"
   ]
  },
  {
   "attachments": {},
   "cell_type": "markdown",
   "metadata": {},
   "source": [
    "# Getting started 🦞\n",
    "\n",
    "> A python package for working with [LOBSTER data](https://lobsterdata.com/), the limit order book data from Nasdaq."
   ]
  },
  {
   "cell_type": "markdown",
   "metadata": {},
   "source": [
    "## Install"
   ]
  },
  {
   "attachments": {},
   "cell_type": "markdown",
   "metadata": {},
   "source": [
    "::: {.panel-tabset}\n",
    "\n",
    "#### pip\n",
    "\n",
    "```sh\n",
    "pip install -U lobster-tools\n",
    "```\n",
    "\n",
    "#### conda\n",
    "\n",
    "```sh\n",
    "conda install -c conda-forge lobster-tools\n",
    "```\n",
    "\n",
    ":::"
   ]
  },
  {
   "cell_type": "markdown",
   "metadata": {},
   "source": [
    "## How to use"
   ]
  }
 ],
 "metadata": {
  "kernelspec": {
   "display_name": "python3",
   "language": "python",
   "name": "python3"
  }
 },
 "nbformat": 4,
 "nbformat_minor": 4
}
